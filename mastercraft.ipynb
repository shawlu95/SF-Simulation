{
 "cells": [
  {
   "cell_type": "code",
   "execution_count": 1,
   "metadata": {},
   "outputs": [],
   "source": [
    "import pandas as pd\n",
    "from random import random as rng\n",
    "from matplotlib import pyplot as plt\n",
    "\n",
    "def roll_rng(df):\n",
    "    rn = rng()\n",
    "    for i, row in df.iterrows():\n",
    "        if rn <= row['cumsum']:\n",
    "            return row.name"
   ]
  },
  {
   "cell_type": "markdown",
   "metadata": {},
   "source": [
    "#### CDD Drop Rate"
   ]
  },
  {
   "cell_type": "code",
   "execution_count": 2,
   "metadata": {},
   "outputs": [
    {
     "data": {
      "text/plain": [
       "3    133\n",
       "5     64\n",
       "7     27\n",
       "Name: drop, dtype: int64"
      ]
     },
     "execution_count": 2,
     "metadata": {},
     "output_type": "execute_result"
    }
   ],
   "source": [
    "df_cdd = pd.read_csv('./assets/cdd_drop_rate.csv', header=None)\n",
    "df_cdd.columns = ['drop']\n",
    "df_cdd['drop'].value_counts()"
   ]
  },
  {
   "cell_type": "code",
   "execution_count": 3,
   "metadata": {},
   "outputs": [
    {
     "data": {
      "text/plain": [
       "3    0.593750\n",
       "5    0.285714\n",
       "7    0.120536\n",
       "Name: drop, dtype: float64"
      ]
     },
     "execution_count": 3,
     "metadata": {},
     "output_type": "execute_result"
    }
   ],
   "source": [
    "df_cdd['drop'].value_counts() / len(df_cdd)"
   ]
  },
  {
   "cell_type": "code",
   "execution_count": 4,
   "metadata": {},
   "outputs": [
    {
     "data": {
      "text/html": [
       "<div>\n",
       "<style scoped>\n",
       "    .dataframe tbody tr th:only-of-type {\n",
       "        vertical-align: middle;\n",
       "    }\n",
       "\n",
       "    .dataframe tbody tr th {\n",
       "        vertical-align: top;\n",
       "    }\n",
       "\n",
       "    .dataframe thead th {\n",
       "        text-align: right;\n",
       "    }\n",
       "</style>\n",
       "<table border=\"1\" class=\"dataframe\">\n",
       "  <thead>\n",
       "    <tr style=\"text-align: right;\">\n",
       "      <th></th>\n",
       "      <th>drop</th>\n",
       "      <th>cumsum</th>\n",
       "    </tr>\n",
       "  </thead>\n",
       "  <tbody>\n",
       "    <tr>\n",
       "      <td>3</td>\n",
       "      <td>0.593750</td>\n",
       "      <td>0.593750</td>\n",
       "    </tr>\n",
       "    <tr>\n",
       "      <td>5</td>\n",
       "      <td>0.285714</td>\n",
       "      <td>0.879464</td>\n",
       "    </tr>\n",
       "    <tr>\n",
       "      <td>7</td>\n",
       "      <td>0.120536</td>\n",
       "      <td>1.000000</td>\n",
       "    </tr>\n",
       "  </tbody>\n",
       "</table>\n",
       "</div>"
      ],
      "text/plain": [
       "       drop    cumsum\n",
       "3  0.593750  0.593750\n",
       "5  0.285714  0.879464\n",
       "7  0.120536  1.000000"
      ]
     },
     "execution_count": 4,
     "metadata": {},
     "output_type": "execute_result"
    }
   ],
   "source": [
    "df_cdd_drop_rate = pd.DataFrame(df_cdd['drop'].value_counts() / len(df_cdd)).sort_index()\n",
    "df_cdd_drop_rate['cumsum'] = df_cdd_drop_rate['drop'].cumsum()\n",
    "df_cdd_drop_rate"
   ]
  },
  {
   "cell_type": "markdown",
   "metadata": {},
   "source": [
    "#### Raw Crystal Drop Rate"
   ]
  },
  {
   "cell_type": "code",
   "execution_count": 5,
   "metadata": {},
   "outputs": [
    {
     "data": {
      "text/plain": [
       "30    0.0625\n",
       "80    0.0625\n",
       "20    0.1250\n",
       "70    0.1875\n",
       "50    0.2500\n",
       "60    0.3125\n",
       "Name: drop, dtype: float64"
      ]
     },
     "execution_count": 5,
     "metadata": {},
     "output_type": "execute_result"
    }
   ],
   "source": [
    "df_raw = pd.read_csv('./assets/raw_crystal_drop_rate.csv', header=None)\n",
    "df_raw.columns = ['drop']\n",
    "df_raw['drop'].value_counts().sort_values() / len(df_raw)"
   ]
  },
  {
   "cell_type": "code",
   "execution_count": 6,
   "metadata": {},
   "outputs": [
    {
     "data": {
      "text/plain": [
       "<BarContainer object of 6 artists>"
      ]
     },
     "execution_count": 6,
     "metadata": {},
     "output_type": "execute_result"
    },
    {
     "data": {
      "image/png": "[encoded data removed]",
      "text/plain": [
       "<Figure size 432x288 with 1 Axes>"
      ]
     },
     "metadata": {
      "needs_background": "light"
     },
     "output_type": "display_data"
    }
   ],
   "source": [
    "dist = df_raw['drop'].value_counts() / len(df_raw)\n",
    "plt.bar(dist.index, dist.values)"
   ]
  },
  {
   "cell_type": "code",
   "execution_count": 7,
   "metadata": {},
   "outputs": [
    {
     "data": {
      "text/html": [
       "<div>\n",
       "<style scoped>\n",
       "    .dataframe tbody tr th:only-of-type {\n",
       "        vertical-align: middle;\n",
       "    }\n",
       "\n",
       "    .dataframe tbody tr th {\n",
       "        vertical-align: top;\n",
       "    }\n",
       "\n",
       "    .dataframe thead th {\n",
       "        text-align: right;\n",
       "    }\n",
       "</style>\n",
       "<table border=\"1\" class=\"dataframe\">\n",
       "  <thead>\n",
       "    <tr style=\"text-align: right;\">\n",
       "      <th></th>\n",
       "      <th>drop</th>\n",
       "      <th>cumsum</th>\n",
       "    </tr>\n",
       "  </thead>\n",
       "  <tbody>\n",
       "    <tr>\n",
       "      <td>20</td>\n",
       "      <td>0.1250</td>\n",
       "      <td>0.1250</td>\n",
       "    </tr>\n",
       "    <tr>\n",
       "      <td>30</td>\n",
       "      <td>0.0625</td>\n",
       "      <td>0.1875</td>\n",
       "    </tr>\n",
       "    <tr>\n",
       "      <td>50</td>\n",
       "      <td>0.2500</td>\n",
       "      <td>0.4375</td>\n",
       "    </tr>\n",
       "    <tr>\n",
       "      <td>60</td>\n",
       "      <td>0.3125</td>\n",
       "      <td>0.7500</td>\n",
       "    </tr>\n",
       "    <tr>\n",
       "      <td>70</td>\n",
       "      <td>0.1875</td>\n",
       "      <td>0.9375</td>\n",
       "    </tr>\n",
       "    <tr>\n",
       "      <td>80</td>\n",
       "      <td>0.0625</td>\n",
       "      <td>1.0000</td>\n",
       "    </tr>\n",
       "  </tbody>\n",
       "</table>\n",
       "</div>"
      ],
      "text/plain": [
       "      drop  cumsum\n",
       "20  0.1250  0.1250\n",
       "30  0.0625  0.1875\n",
       "50  0.2500  0.4375\n",
       "60  0.3125  0.7500\n",
       "70  0.1875  0.9375\n",
       "80  0.0625  1.0000"
      ]
     },
     "execution_count": 7,
     "metadata": {},
     "output_type": "execute_result"
    }
   ],
   "source": [
    "df_raw_extract_rate = pd.DataFrame(df_raw['drop'].value_counts() / len(df_raw)).sort_index()\n",
    "df_raw_extract_rate['cumsum'] = df_raw_extract_rate['drop'].cumsum()\n",
    "df_raw_extract_rate"
   ]
  },
  {
   "cell_type": "code",
   "execution_count": 8,
   "metadata": {},
   "outputs": [],
   "source": [
    "RAW_CRYSTAL_DROP_RATE = 16/231\n",
    "FODDER_COST = 500_000_000"
   ]
  },
  {
   "cell_type": "code",
   "execution_count": 9,
   "metadata": {},
   "outputs": [],
   "source": [
    "class Mastercraft:\n",
    "    def __init__(self, success_rate=0.02):\n",
    "        self.fail_count = 0\n",
    "        self.attempt = 0\n",
    "        self.fodder = 0\n",
    "        self.success_rate = success_rate\n",
    "        self.mesos = 0\n",
    "        self.success = False\n",
    "    \n",
    "    def roll_rng(self):\n",
    "        rn = rng()\n",
    "        if rn < self.success_rate:\n",
    "            return True\n",
    "        return False\n",
    "    \n",
    "    def necro_conversion(self):\n",
    "        # make ancient stone \n",
    "        self.mesos += 15_000_000\n",
    "        \n",
    "        if self.fail_count == 3:\n",
    "            self.fail_count -= 1\n",
    "            self.fodder += 1\n",
    "            self.mesos += FODDER_COST\n",
    "            self.mesos += 10_000_000\n",
    "        \n",
    "        self.success = self.roll_rng()\n",
    "        if not self.success:\n",
    "            self.fail_count += 1\n",
    "            \n",
    "        self.mesos += 85_000_000\n",
    "        self.attempt += 1"
   ]
  },
  {
   "cell_type": "code",
   "execution_count": 10,
   "metadata": {},
   "outputs": [
    {
     "data": {
      "text/plain": [
       "24.8193"
      ]
     },
     "execution_count": 10,
     "metadata": {},
     "output_type": "execute_result"
    }
   ],
   "source": [
    "trial = 10000\n",
    "import numpy as np\n",
    "attemtps = np.zeros(trial)\n",
    "\n",
    "for i in range(trial):\n",
    "    mastercraft = Mastercraft(success_rate=0.04)\n",
    "    while not mastercraft.success:\n",
    "        mastercraft.necro_conversion()\n",
    "    attemtps[i] = mastercraft.attempt\n",
    "    \n",
    "np.mean(attemtps)"
   ]
  },
  {
   "cell_type": "code",
   "execution_count": 11,
   "metadata": {},
   "outputs": [
    {
     "name": "stdout",
     "output_type": "stream",
     "text": [
      "trial 99\r"
     ]
    }
   ],
   "source": [
    "gear_probs = [0.04, 0.04, 0.04, 0.04, 0.04, 0.02]\n",
    "\n",
    "trial = 100\n",
    "\n",
    "attempt_arr = np.zeros(trial)\n",
    "mesos_arr = np.zeros(trial)\n",
    "fodder_arr = np.zeros(trial)\n",
    "cdd_arr = np.zeros(trial)\n",
    "crystal_arr = np.zeros(trial)\n",
    "for i in range(trial):\n",
    "    print(f\"trial {i}\", end='\\r')\n",
    "    crystal_pieces = 0\n",
    "    ancient_crystal = 0\n",
    "    attempt = 0\n",
    "    mesos = 0\n",
    "    fodder = 0\n",
    "    cdd_run = 0\n",
    "\n",
    "    for gear in gear_probs:\n",
    "        mastercraft = Mastercraft(success_rate=gear)\n",
    "        while not mastercraft.success:\n",
    "            while crystal_pieces < 150:\n",
    "                crystal_pieces += roll_rng(df_cdd_drop_rate)\n",
    "                if rng() < RAW_CRYSTAL_DROP_RATE:\n",
    "                    crystal_pieces += roll_rng(df_raw_extract_rate)\n",
    "                    ancient_crystal += 1\n",
    "                cdd_run += 1\n",
    "\n",
    "            mastercraft.necro_conversion()\n",
    "            crystal_pieces -= 150\n",
    "        attempt += mastercraft.attempt\n",
    "        mesos += mastercraft.mesos\n",
    "        fodder += mastercraft.fodder\n",
    "\n",
    "    crystal = cdd_run * 35 / 39 * 150\n",
    "    \n",
    "    attempt_arr[i] = attempt\n",
    "    mesos_arr[i] = mesos\n",
    "    fodder_arr[i] = fodder\n",
    "    cdd_arr[i] = cdd_run\n",
    "    crystal_arr[i] = crystal"
   ]
  },
  {
   "cell_type": "code",
   "execution_count": 12,
   "metadata": {},
   "outputs": [
    {
     "data": {
      "text/plain": [
       "(array([1.01394170e-04, 3.67553866e-04, 3.04182510e-04, 1.77439797e-04,\n",
       "        1.14068441e-04, 1.14068441e-04, 3.80228137e-05, 2.53485425e-05,\n",
       "        0.00000000e+00, 2.53485425e-05]),\n",
       " array([1151., 1940., 2729., 3518., 4307., 5096., 5885., 6674., 7463.,\n",
       "        8252., 9041.]),\n",
       " <a list of 10 Patch objects>)"
      ]
     },
     "execution_count": 12,
     "metadata": {},
     "output_type": "execute_result"
    },
    {
     "data": {
      "image/png": "[encoded data removed]",
      "text/plain": [
       "<Figure size 432x288 with 1 Axes>"
      ]
     },
     "metadata": {
      "needs_background": "light"
     },
     "output_type": "display_data"
    }
   ],
   "source": [
    "plt.hist(cdd_arr, density=True)"
   ]
  },
  {
   "cell_type": "code",
   "execution_count": 13,
   "metadata": {},
   "outputs": [
    {
     "data": {
      "text/plain": [
       "(array([0.00193237, 0.00652174, 0.00603865, 0.00386473, 0.00217391,\n",
       "        0.00193237, 0.00072464, 0.00048309, 0.        , 0.00048309]),\n",
       " array([ 57. ,  98.4, 139.8, 181.2, 222.6, 264. , 305.4, 346.8, 388.2,\n",
       "        429.6, 471. ]),\n",
       " <a list of 10 Patch objects>)"
      ]
     },
     "execution_count": 13,
     "metadata": {},
     "output_type": "execute_result"
    },
    {
     "data": {
      "image/png": "[encoded data removed]",
      "text/plain": [
       "<Figure size 432x288 with 1 Axes>"
      ]
     },
     "metadata": {
      "needs_background": "light"
     },
     "output_type": "display_data"
    }
   ],
   "source": [
    "plt.hist(attempt_arr, density=True)"
   ]
  },
  {
   "cell_type": "code",
   "execution_count": 15,
   "metadata": {},
   "outputs": [
    {
     "data": {
      "text/plain": [
       "(array([0.00318066, 0.01113232, 0.00993957, 0.00556616, 0.00397583,\n",
       "        0.00318066, 0.00119275, 0.00079517, 0.        , 0.00079517]),\n",
       " array([ 26.61 ,  51.762,  76.914, 102.066, 127.218, 152.37 , 177.522,\n",
       "        202.674, 227.826, 252.978, 278.13 ]),\n",
       " <a list of 10 Patch objects>)"
      ]
     },
     "execution_count": 15,
     "metadata": {},
     "output_type": "execute_result"
    },
    {
     "data": {
      "image/png": "[encoded data removed]",
      "text/plain": [
       "<Figure size 432x288 with 1 Axes>"
      ]
     },
     "metadata": {
      "needs_background": "light"
     },
     "output_type": "display_data"
    }
   ],
   "source": [
    "plt.hist(mesos_arr/1e9, density=True)"
   ]
  },
  {
   "cell_type": "code",
   "execution_count": null,
   "metadata": {},
   "outputs": [],
   "source": []
  }
 ],
 "metadata": {
  "kernelspec": {
   "display_name": "Python 3",
   "language": "python",
   "name": "python3"
  },
  "language_info": {
   "codemirror_mode": {
    "name": "ipython",
    "version": 3
   },
   "file_extension": ".py",
   "mimetype": "text/x-python",
   "name": "python",
   "nbconvert_exporter": "python",
   "pygments_lexer": "ipython3",
   "version": "3.7.4"
  }
 },
 "nbformat": 4,
 "nbformat_minor": 2
}
