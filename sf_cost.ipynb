{
 "cells": [
  {
   "cell_type": "code",
   "execution_count": 1,
   "metadata": {},
   "outputs": [
    {
     "data": {
      "text/html": [
       "<div>\n",
       "<style scoped>\n",
       "    .dataframe tbody tr th:only-of-type {\n",
       "        vertical-align: middle;\n",
       "    }\n",
       "\n",
       "    .dataframe tbody tr th {\n",
       "        vertical-align: top;\n",
       "    }\n",
       "\n",
       "    .dataframe thead th {\n",
       "        text-align: right;\n",
       "    }\n",
       "</style>\n",
       "<table border=\"1\" class=\"dataframe\">\n",
       "  <thead>\n",
       "    <tr style=\"text-align: right;\">\n",
       "      <th></th>\n",
       "      <th>sf</th>\n",
       "      <th>mesos</th>\n",
       "      <th>success</th>\n",
       "      <th>maintain</th>\n",
       "      <th>degrade</th>\n",
       "      <th>break</th>\n",
       "    </tr>\n",
       "  </thead>\n",
       "  <tbody>\n",
       "    <tr>\n",
       "      <th>0</th>\n",
       "      <td>0</td>\n",
       "      <td>10000</td>\n",
       "      <td>1.00</td>\n",
       "      <td>0.00</td>\n",
       "      <td>0.00</td>\n",
       "      <td>0.00</td>\n",
       "    </tr>\n",
       "    <tr>\n",
       "      <th>1</th>\n",
       "      <td>1</td>\n",
       "      <td>15000</td>\n",
       "      <td>0.95</td>\n",
       "      <td>0.05</td>\n",
       "      <td>0.00</td>\n",
       "      <td>0.00</td>\n",
       "    </tr>\n",
       "    <tr>\n",
       "      <th>2</th>\n",
       "      <td>2</td>\n",
       "      <td>30000</td>\n",
       "      <td>0.90</td>\n",
       "      <td>0.10</td>\n",
       "      <td>0.00</td>\n",
       "      <td>0.00</td>\n",
       "    </tr>\n",
       "    <tr>\n",
       "      <th>3</th>\n",
       "      <td>3</td>\n",
       "      <td>55000</td>\n",
       "      <td>0.85</td>\n",
       "      <td>0.15</td>\n",
       "      <td>0.00</td>\n",
       "      <td>0.00</td>\n",
       "    </tr>\n",
       "    <tr>\n",
       "      <th>4</th>\n",
       "      <td>4</td>\n",
       "      <td>100000</td>\n",
       "      <td>0.80</td>\n",
       "      <td>0.20</td>\n",
       "      <td>0.00</td>\n",
       "      <td>0.00</td>\n",
       "    </tr>\n",
       "    <tr>\n",
       "      <th>5</th>\n",
       "      <td>5</td>\n",
       "      <td>180000</td>\n",
       "      <td>0.75</td>\n",
       "      <td>0.25</td>\n",
       "      <td>0.00</td>\n",
       "      <td>0.00</td>\n",
       "    </tr>\n",
       "    <tr>\n",
       "      <th>6</th>\n",
       "      <td>6</td>\n",
       "      <td>270000</td>\n",
       "      <td>0.70</td>\n",
       "      <td>0.30</td>\n",
       "      <td>0.00</td>\n",
       "      <td>0.00</td>\n",
       "    </tr>\n",
       "    <tr>\n",
       "      <th>7</th>\n",
       "      <td>7</td>\n",
       "      <td>360000</td>\n",
       "      <td>0.65</td>\n",
       "      <td>0.35</td>\n",
       "      <td>0.00</td>\n",
       "      <td>0.00</td>\n",
       "    </tr>\n",
       "    <tr>\n",
       "      <th>8</th>\n",
       "      <td>8</td>\n",
       "      <td>450000</td>\n",
       "      <td>0.60</td>\n",
       "      <td>0.40</td>\n",
       "      <td>0.00</td>\n",
       "      <td>0.00</td>\n",
       "    </tr>\n",
       "    <tr>\n",
       "      <th>9</th>\n",
       "      <td>9</td>\n",
       "      <td>540000</td>\n",
       "      <td>0.55</td>\n",
       "      <td>0.45</td>\n",
       "      <td>0.00</td>\n",
       "      <td>0.00</td>\n",
       "    </tr>\n",
       "    <tr>\n",
       "      <th>10</th>\n",
       "      <td>10</td>\n",
       "      <td>560000</td>\n",
       "      <td>0.50</td>\n",
       "      <td>0.35</td>\n",
       "      <td>0.10</td>\n",
       "      <td>0.05</td>\n",
       "    </tr>\n",
       "    <tr>\n",
       "      <th>11</th>\n",
       "      <td>11</td>\n",
       "      <td>640000</td>\n",
       "      <td>0.45</td>\n",
       "      <td>0.40</td>\n",
       "      <td>0.10</td>\n",
       "      <td>0.05</td>\n",
       "    </tr>\n",
       "    <tr>\n",
       "      <th>12</th>\n",
       "      <td>12</td>\n",
       "      <td>720000</td>\n",
       "      <td>0.40</td>\n",
       "      <td>0.40</td>\n",
       "      <td>0.15</td>\n",
       "      <td>0.05</td>\n",
       "    </tr>\n",
       "    <tr>\n",
       "      <th>13</th>\n",
       "      <td>13</td>\n",
       "      <td>800000</td>\n",
       "      <td>0.35</td>\n",
       "      <td>0.45</td>\n",
       "      <td>0.15</td>\n",
       "      <td>0.05</td>\n",
       "    </tr>\n",
       "    <tr>\n",
       "      <th>14</th>\n",
       "      <td>14</td>\n",
       "      <td>1200000</td>\n",
       "      <td>0.30</td>\n",
       "      <td>0.45</td>\n",
       "      <td>0.20</td>\n",
       "      <td>0.05</td>\n",
       "    </tr>\n",
       "    <tr>\n",
       "      <th>15</th>\n",
       "      <td>15</td>\n",
       "      <td>1600000</td>\n",
       "      <td>0.25</td>\n",
       "      <td>0.50</td>\n",
       "      <td>0.20</td>\n",
       "      <td>0.05</td>\n",
       "    </tr>\n",
       "    <tr>\n",
       "      <th>16</th>\n",
       "      <td>16</td>\n",
       "      <td>2000000</td>\n",
       "      <td>0.20</td>\n",
       "      <td>0.50</td>\n",
       "      <td>0.25</td>\n",
       "      <td>0.05</td>\n",
       "    </tr>\n",
       "    <tr>\n",
       "      <th>17</th>\n",
       "      <td>17</td>\n",
       "      <td>2400000</td>\n",
       "      <td>0.15</td>\n",
       "      <td>0.55</td>\n",
       "      <td>0.25</td>\n",
       "      <td>0.05</td>\n",
       "    </tr>\n",
       "    <tr>\n",
       "      <th>18</th>\n",
       "      <td>18</td>\n",
       "      <td>2800000</td>\n",
       "      <td>0.10</td>\n",
       "      <td>0.55</td>\n",
       "      <td>0.30</td>\n",
       "      <td>0.05</td>\n",
       "    </tr>\n",
       "    <tr>\n",
       "      <th>19</th>\n",
       "      <td>19</td>\n",
       "      <td>3200000</td>\n",
       "      <td>0.05</td>\n",
       "      <td>0.60</td>\n",
       "      <td>0.30</td>\n",
       "      <td>0.05</td>\n",
       "    </tr>\n",
       "  </tbody>\n",
       "</table>\n",
       "</div>"
      ],
      "text/plain": [
       "    sf    mesos  success  maintain  degrade  break\n",
       "0    0    10000     1.00      0.00     0.00   0.00\n",
       "1    1    15000     0.95      0.05     0.00   0.00\n",
       "2    2    30000     0.90      0.10     0.00   0.00\n",
       "3    3    55000     0.85      0.15     0.00   0.00\n",
       "4    4   100000     0.80      0.20     0.00   0.00\n",
       "5    5   180000     0.75      0.25     0.00   0.00\n",
       "6    6   270000     0.70      0.30     0.00   0.00\n",
       "7    7   360000     0.65      0.35     0.00   0.00\n",
       "8    8   450000     0.60      0.40     0.00   0.00\n",
       "9    9   540000     0.55      0.45     0.00   0.00\n",
       "10  10   560000     0.50      0.35     0.10   0.05\n",
       "11  11   640000     0.45      0.40     0.10   0.05\n",
       "12  12   720000     0.40      0.40     0.15   0.05\n",
       "13  13   800000     0.35      0.45     0.15   0.05\n",
       "14  14  1200000     0.30      0.45     0.20   0.05\n",
       "15  15  1600000     0.25      0.50     0.20   0.05\n",
       "16  16  2000000     0.20      0.50     0.25   0.05\n",
       "17  17  2400000     0.15      0.55     0.25   0.05\n",
       "18  18  2800000     0.10      0.55     0.30   0.05\n",
       "19  19  3200000     0.05      0.60     0.30   0.05"
      ]
     },
     "execution_count": 1,
     "metadata": {},
     "output_type": "execute_result"
    }
   ],
   "source": [
    "import pandas as pd\n",
    "import random\n",
    "import matplotlib.pyplot as plt\n",
    "\n",
    "df = pd.read_csv(\"data.csv\")\n",
    "df.head(20)"
   ]
  },
  {
   "cell_type": "code",
   "execution_count": 2,
   "metadata": {},
   "outputs": [],
   "source": [
    "# 350 crystal per scroll\n",
    "decline_scroll_cost = 350 / 3 \n",
    "shield_scroll_cost = 350 / 3 \n",
    "\n",
    "# 160m mesos for 7% luky scroll\n",
    "lucky_scroll_cost = 160_000_000 "
   ]
  },
  {
   "cell_type": "code",
   "execution_count": 3,
   "metadata": {},
   "outputs": [],
   "source": [
    "class Gear:\n",
    "    \n",
    "    def __init__(self, current_sf=0, max_sf=30):\n",
    "        self.max_sf = max_sf\n",
    "        self.current_sf = current_sf\n",
    "        self.broken = 0\n",
    "        self.attempt = 0\n",
    "        \n",
    "        self.mesos_cost = 0\n",
    "        self.crystal_cost = 0\n",
    "    \n",
    "    def rng(self):\n",
    "        return random.random()\n",
    "    \n",
    "    @property\n",
    "    def success(self):\n",
    "        return df.iloc[self.current_sf]['success']\n",
    "    \n",
    "    @property\n",
    "    def maintain(self):\n",
    "        return df.iloc[self.current_sf]['maintain']\n",
    "    \n",
    "    @property\n",
    "    def degrade(self):\n",
    "        return df.iloc[self.current_sf]['degrade']\n",
    "    \n",
    "    @property\n",
    "    def destroy(self):\n",
    "        return df.iloc[self.current_sf]['break']\n",
    "    \n",
    "    @property\n",
    "    def mesos(self):\n",
    "        return df.iloc[self.current_sf]['mesos']\n",
    "        \n",
    "    def enhance(self, use_decline_scroll=False, use_shield_scroll=False, use_lucky_scroll=False):\n",
    "        self.attempt += 1\n",
    "        self.mesos_cost += self.mesos\n",
    "        \n",
    "        success_thresh = self.success\n",
    "        if use_lucky_scroll:\n",
    "            success_thresh += 0.07\n",
    "            self.mesos_cost += lucky_scroll_cost\n",
    "        \n",
    "        degrade_thresh = success_thresh + self.degrade\n",
    "        if use_decline_scroll:\n",
    "            degrade_thresh = success_thresh\n",
    "            self.crystal_cost += decline_scroll_cost\n",
    "        \n",
    "        break_thresh = degrade_thresh + self.destroy\n",
    "        if use_shield_scroll:\n",
    "            break_thresh = degrade_thresh\n",
    "            self.crystal_cost += shield_scroll_cost\n",
    "        \n",
    "        rn = self.rng()\n",
    "        if rn <= success_thresh:\n",
    "            self.current_sf += 1\n",
    "        elif rn <= degrade_thresh:\n",
    "            self.current_sf -= 1\n",
    "        elif rn <= break_thresh:\n",
    "            # equipment breaks, reset SF to zero\n",
    "            self.current_sf = 0\n",
    "            self.broken += 1\n",
    "        else:\n",
    "            # maintain current level\n",
    "            pass\n",
    "        \n",
    "    def __str__(self):\n",
    "        return f\"current sf: {self.current_sf}, mesos cost: {self.mesos_cost}, crystal cost: {self.crystal_cost}, attempt: {self.attempt}, broke: {self.broken}\""
   ]
  },
  {
   "cell_type": "markdown",
   "metadata": {},
   "source": [
    "#### Trial Run SF 1-15"
   ]
  },
  {
   "cell_type": "code",
   "execution_count": 4,
   "metadata": {},
   "outputs": [
    {
     "name": "stdout",
     "output_type": "stream",
     "text": [
      "current sf: 1, mesos cost: 10000.0, crystal cost: 0, attempt: 1, broke: 0\n",
      "current sf: 2, mesos cost: 25000.0, crystal cost: 0, attempt: 2, broke: 0\n",
      "current sf: 3, mesos cost: 55000.0, crystal cost: 0, attempt: 3, broke: 0\n",
      "current sf: 4, mesos cost: 110000.0, crystal cost: 0, attempt: 4, broke: 0\n",
      "current sf: 5, mesos cost: 210000.0, crystal cost: 0, attempt: 5, broke: 0\n",
      "current sf: 6, mesos cost: 390000.0, crystal cost: 0, attempt: 6, broke: 0\n",
      "current sf: 7, mesos cost: 660000.0, crystal cost: 0, attempt: 7, broke: 0\n",
      "current sf: 8, mesos cost: 1020000.0, crystal cost: 0, attempt: 8, broke: 0\n",
      "current sf: 8, mesos cost: 1470000.0, crystal cost: 0, attempt: 9, broke: 0\n",
      "current sf: 8, mesos cost: 1920000.0, crystal cost: 0, attempt: 10, broke: 0\n",
      "current sf: 9, mesos cost: 2370000.0, crystal cost: 0, attempt: 11, broke: 0\n",
      "current sf: 9, mesos cost: 2910000.0, crystal cost: 0, attempt: 12, broke: 0\n",
      "current sf: 9, mesos cost: 3450000.0, crystal cost: 0, attempt: 13, broke: 0\n",
      "current sf: 10, mesos cost: 3990000.0, crystal cost: 0, attempt: 14, broke: 0\n",
      "current sf: 10, mesos cost: 4550000.0, crystal cost: 0, attempt: 15, broke: 0\n",
      "current sf: 11, mesos cost: 5110000.0, crystal cost: 0, attempt: 16, broke: 0\n",
      "current sf: 12, mesos cost: 5750000.0, crystal cost: 0, attempt: 17, broke: 0\n",
      "current sf: 12, mesos cost: 6470000.0, crystal cost: 0, attempt: 18, broke: 0\n",
      "current sf: 13, mesos cost: 7190000.0, crystal cost: 0, attempt: 19, broke: 0\n",
      "current sf: 13, mesos cost: 7990000.0, crystal cost: 0, attempt: 20, broke: 0\n",
      "current sf: 14, mesos cost: 8790000.0, crystal cost: 0, attempt: 21, broke: 0\n",
      "current sf: 14, mesos cost: 9990000.0, crystal cost: 0, attempt: 22, broke: 0\n",
      "current sf: 14, mesos cost: 11190000.0, crystal cost: 0, attempt: 23, broke: 0\n",
      "current sf: 13, mesos cost: 12390000.0, crystal cost: 0, attempt: 24, broke: 0\n",
      "current sf: 14, mesos cost: 13190000.0, crystal cost: 0, attempt: 25, broke: 0\n",
      "current sf: 15, mesos cost: 14390000.0, crystal cost: 0, attempt: 26, broke: 0\n"
     ]
    }
   ],
   "source": [
    "gear = Gear(current_sf=0)\n",
    "while gear.current_sf != 15:\n",
    "    gear.enhance()\n",
    "    print(gear)"
   ]
  },
  {
   "cell_type": "markdown",
   "metadata": {},
   "source": [
    "#### Trial Run SF 15-20 (no scroll)"
   ]
  },
  {
   "cell_type": "code",
   "execution_count": 5,
   "metadata": {},
   "outputs": [
    {
     "name": "stdout",
     "output_type": "stream",
     "text": [
      "current sf: 20, mesos cost: 5290195000.0, crystal cost: 0, attempt: 6633, broke: 189\n",
      "mesos: 5290195000.0, crystal: 0\n"
     ]
    }
   ],
   "source": [
    "gear = Gear(current_sf=15)\n",
    "while gear.current_sf != 20:\n",
    "    gear.enhance()\n",
    "    \n",
    "print(gear)\n",
    "print(f\"mesos: {gear.mesos_cost}, crystal: {gear.crystal_cost}\")"
   ]
  },
  {
   "cell_type": "markdown",
   "metadata": {},
   "source": [
    "#### Trial Run SF 15-20 (use scroll)"
   ]
  },
  {
   "cell_type": "code",
   "execution_count": 6,
   "metadata": {},
   "outputs": [
    {
     "name": "stdout",
     "output_type": "stream",
     "text": [
      "start: current sf: 15, mesos cost: 0, crystal cost: 0, attempt: 0, broke: 0\n",
      "current sf: 15, mesos cost: 1600000.0, crystal cost: 233.33333333333334, attempt: 1, broke: 0\n",
      "current sf: 15, mesos cost: 3200000.0, crystal cost: 466.6666666666667, attempt: 2, broke: 0\n",
      "current sf: 15, mesos cost: 4800000.0, crystal cost: 700.0, attempt: 3, broke: 0\n",
      "current sf: 15, mesos cost: 6400000.0, crystal cost: 933.3333333333333, attempt: 4, broke: 0\n",
      "current sf: 15, mesos cost: 8000000.0, crystal cost: 1166.6666666666667, attempt: 5, broke: 0\n",
      "current sf: 15, mesos cost: 9600000.0, crystal cost: 1400.0000000000002, attempt: 6, broke: 0\n",
      "current sf: 15, mesos cost: 11200000.0, crystal cost: 1633.3333333333337, attempt: 7, broke: 0\n",
      "current sf: 16, mesos cost: 12800000.0, crystal cost: 1866.6666666666672, attempt: 8, broke: 0\n",
      "current sf: 16, mesos cost: 14800000.0, crystal cost: 2100.0000000000005, attempt: 9, broke: 0\n",
      "current sf: 17, mesos cost: 16800000.0, crystal cost: 2333.3333333333335, attempt: 10, broke: 0\n",
      "current sf: 17, mesos cost: 19200000.0, crystal cost: 2566.6666666666665, attempt: 11, broke: 0\n",
      "current sf: 17, mesos cost: 21600000.0, crystal cost: 2799.9999999999995, attempt: 12, broke: 0\n",
      "current sf: 18, mesos cost: 24000000.0, crystal cost: 3033.3333333333326, attempt: 13, broke: 0\n",
      "current sf: 18, mesos cost: 26800000.0, crystal cost: 3266.6666666666656, attempt: 14, broke: 0\n",
      "current sf: 18, mesos cost: 29600000.0, crystal cost: 3499.9999999999986, attempt: 15, broke: 0\n",
      "current sf: 19, mesos cost: 32400000.0, crystal cost: 3733.3333333333317, attempt: 16, broke: 0\n",
      "current sf: 19, mesos cost: 35600000.0, crystal cost: 3966.6666666666647, attempt: 17, broke: 0\n",
      "current sf: 19, mesos cost: 38800000.0, crystal cost: 4199.999999999998, attempt: 18, broke: 0\n",
      "current sf: 19, mesos cost: 42000000.0, crystal cost: 4433.333333333332, attempt: 19, broke: 0\n",
      "current sf: 19, mesos cost: 45200000.0, crystal cost: 4666.666666666666, attempt: 20, broke: 0\n",
      "current sf: 19, mesos cost: 48400000.0, crystal cost: 4900.0, attempt: 21, broke: 0\n",
      "current sf: 19, mesos cost: 51600000.0, crystal cost: 5133.333333333334, attempt: 22, broke: 0\n",
      "current sf: 19, mesos cost: 54800000.0, crystal cost: 5366.666666666668, attempt: 23, broke: 0\n",
      "current sf: 19, mesos cost: 58000000.0, crystal cost: 5600.000000000002, attempt: 24, broke: 0\n",
      "current sf: 19, mesos cost: 61200000.0, crystal cost: 5833.333333333336, attempt: 25, broke: 0\n",
      "current sf: 19, mesos cost: 64400000.0, crystal cost: 6066.66666666667, attempt: 26, broke: 0\n",
      "current sf: 19, mesos cost: 67600000.0, crystal cost: 6300.000000000004, attempt: 27, broke: 0\n",
      "current sf: 19, mesos cost: 70800000.0, crystal cost: 6533.333333333338, attempt: 28, broke: 0\n",
      "current sf: 19, mesos cost: 74000000.0, crystal cost: 6766.6666666666715, attempt: 29, broke: 0\n",
      "current sf: 19, mesos cost: 77200000.0, crystal cost: 7000.0000000000055, attempt: 30, broke: 0\n",
      "current sf: 19, mesos cost: 80400000.0, crystal cost: 7233.333333333339, attempt: 31, broke: 0\n",
      "current sf: 19, mesos cost: 83600000.0, crystal cost: 7466.666666666673, attempt: 32, broke: 0\n",
      "current sf: 19, mesos cost: 86800000.0, crystal cost: 7700.000000000007, attempt: 33, broke: 0\n",
      "current sf: 19, mesos cost: 90000000.0, crystal cost: 7933.333333333341, attempt: 34, broke: 0\n",
      "current sf: 19, mesos cost: 93200000.0, crystal cost: 8166.666666666675, attempt: 35, broke: 0\n",
      "current sf: 19, mesos cost: 96400000.0, crystal cost: 8400.000000000007, attempt: 36, broke: 0\n",
      "current sf: 20, mesos cost: 99600000.0, crystal cost: 8633.33333333334, attempt: 37, broke: 0\n",
      "end: current sf: 20, mesos cost: 99600000.0, crystal cost: 8633.33333333334, attempt: 37, broke: 0\n",
      "mesos: 99600000.0, crystal: 8633.33333333334\n"
     ]
    }
   ],
   "source": [
    "gear = Gear(current_sf=15)\n",
    "print(\"start:\", gear)\n",
    "while gear.current_sf != 20:\n",
    "    gear.enhance(use_decline_scroll=True, use_lucky_scroll=False, use_shield_scroll=True)\n",
    "    print(gear)\n",
    "    \n",
    "print(\"end:\", gear)\n",
    "print(f\"mesos: {gear.mesos_cost}, crystal: {gear.crystal_cost}\")"
   ]
  },
  {
   "cell_type": "markdown",
   "metadata": {},
   "source": [
    "#### Trial Run SF 20-30 (full scroll)"
   ]
  },
  {
   "cell_type": "code",
   "execution_count": 7,
   "metadata": {},
   "outputs": [
    {
     "name": "stdout",
     "output_type": "stream",
     "text": [
      "start: current sf: 20, mesos cost: 0, crystal cost: 0, attempt: 0, broke: 0\n",
      "end: current sf: 30, mesos cost: 25905900000.0, crystal cost: 36400.00000000006, attempt: 156, broke: 0\n",
      "mesos: 25905900000.0, crystal: 36400.00000000006\n"
     ]
    }
   ],
   "source": [
    "gear = Gear(current_sf=20)\n",
    "print(\"start:\", gear)\n",
    "while gear.current_sf != 30:\n",
    "    gear.enhance(use_decline_scroll=True, use_lucky_scroll=True, use_shield_scroll=True)    \n",
    "print(\"end:\", gear)\n",
    "print(f\"mesos: {gear.mesos_cost}, crystal: {gear.crystal_cost}\")"
   ]
  },
  {
   "cell_type": "markdown",
   "metadata": {},
   "source": [
    "### Monte Carlo Simulation\n",
    "* Each experiment levels SF 20 to 30 using three scrolls.\n",
    "* Run the experiment 10000 times. \n",
    "* Record mesos and crystal expense for each experiment\n",
    "* Plot distribution"
   ]
  },
  {
   "cell_type": "code",
   "execution_count": 8,
   "metadata": {},
   "outputs": [
    {
     "name": "stdout",
     "output_type": "stream",
     "text": [
      "trial 999/1000\r"
     ]
    }
   ],
   "source": [
    "import numpy as np\n",
    "\n",
    "trial = 1000\n",
    "crystal_cost_array = np.zeros(trial)\n",
    "mesos_cost_array = np.zeros(trial)\n",
    "attempt_array = np.zeros(trial)\n",
    "for i in range(trial):\n",
    "    gear = Gear(current_sf=20)\n",
    "    while gear.current_sf != 30:\n",
    "        gear.enhance(use_decline_scroll=True, use_lucky_scroll=True, use_shield_scroll=True)\n",
    "    \n",
    "    crystal_cost_array[i] = gear.crystal_cost\n",
    "    mesos_cost_array[i] = gear.mesos_cost\n",
    "    attempt_array[i] = gear.attempt\n",
    "    \n",
    "    print(f\"trial {i}/{trial}\", end=\"\\r\")"
   ]
  },
  {
   "cell_type": "code",
   "execution_count": 9,
   "metadata": {},
   "outputs": [],
   "source": [
    "from sklearn.neighbors import KernelDensity\n",
    "def kde_sklearn(x, x_grid, bandwidth=0.2, **kwargs):\n",
    "    \"\"\"Kernel Density Estimation with Scikit-learn\"\"\"\n",
    "    kde_skl = KernelDensity(bandwidth=bandwidth, **kwargs)\n",
    "    kde_skl.fit(x[:, np.newaxis])\n",
    "    # score_samples() returns the log-likelihood of the samples\n",
    "    log_pdf = kde_skl.score_samples(x_grid[:, np.newaxis])\n",
    "    return np.exp(log_pdf)"
   ]
  },
  {
   "cell_type": "code",
   "execution_count": 10,
   "metadata": {},
   "outputs": [
    {
     "name": "stdout",
     "output_type": "stream",
     "text": [
      "average cost: 29084.53 crystal\n"
     ]
    },
    {
     "data": {
      "image/png": "[encoded data removed]",
      "text/plain": [
       "<Figure size 432x288 with 1 Axes>"
      ]
     },
     "metadata": {
      "needs_background": "light"
     },
     "output_type": "display_data"
    }
   ],
   "source": [
    "plt.hist(crystal_cost_array, alpha=0.8)\n",
    "plt.xlabel(\"crystal_cost\")\n",
    "print(\"average cost: %.2f crystal\"%np.mean(crystal_cost_array))"
   ]
  },
  {
   "cell_type": "code",
   "execution_count": 11,
   "metadata": {},
   "outputs": [
    {
     "name": "stdout",
     "output_type": "stream",
     "text": [
      "average cost: 21107929000.00 mesos\n"
     ]
    },
    {
     "data": {
      "image/png": "[encoded data removed]",
      "text/plain": [
       "<Figure size 432x288 with 1 Axes>"
      ]
     },
     "metadata": {
      "needs_background": "light"
     },
     "output_type": "display_data"
    }
   ],
   "source": [
    "plt.hist(mesos_cost_array, alpha=0.8)\n",
    "plt.xlabel(\"mesos_cost\")\n",
    "print(\"average cost: %.2f mesos\"%np.mean(mesos_cost_array))"
   ]
  },
  {
   "cell_type": "code",
   "execution_count": 12,
   "metadata": {},
   "outputs": [
    {
     "name": "stdout",
     "output_type": "stream",
     "text": [
      "average attempt: 124.65\n"
     ]
    },
    {
     "data": {
      "image/png": "[encoded data removed]",
      "text/plain": [
       "<Figure size 432x288 with 1 Axes>"
      ]
     },
     "metadata": {
      "needs_background": "light"
     },
     "output_type": "display_data"
    }
   ],
   "source": [
    "plt.hist(attempt_array, alpha=0.8)\n",
    "plt.xlabel(\"enhance_attempt\")\n",
    "print(\"average attempt: %.2f\"%np.mean(attempt_array))"
   ]
  }
 ],
 "metadata": {
  "kernelspec": {
   "display_name": "Python 3",
   "language": "python",
   "name": "python3"
  },
  "language_info": {
   "codemirror_mode": {
    "name": "ipython",
    "version": 3
   },
   "file_extension": ".py",
   "mimetype": "text/x-python",
   "name": "python",
   "nbconvert_exporter": "python",
   "pygments_lexer": "ipython3",
   "version": "3.7.0"
  }
 },
 "nbformat": 4,
 "nbformat_minor": 2
}
