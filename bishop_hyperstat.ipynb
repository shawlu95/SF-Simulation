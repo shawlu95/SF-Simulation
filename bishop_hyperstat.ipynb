{
 "cells": [
  {
   "cell_type": "code",
   "execution_count": 1,
   "metadata": {},
   "outputs": [],
   "source": [
    "import numpy as np\n",
    "import pandas as pd"
   ]
  },
  {
   "cell_type": "markdown",
   "metadata": {},
   "source": [
    "#### Character Stats"
   ]
  },
  {
   "cell_type": "code",
   "execution_count": 2,
   "metadata": {},
   "outputs": [],
   "source": [
    "class Bishop:\n",
    "    mag_atk = 28038\n",
    "    mag_atk_increase = 1.3220\n",
    "    mag_dmg_increase = 0.288\n",
    "    boss_atk = 0.66\n",
    "    crit_dmg = 3.535\n",
    "    final_dmg_increase = 0.063\n",
    "    \n",
    "    # hyperstat\n",
    "    hyper_ad = 0\n",
    "    hyper_md = 0\n",
    "    \n",
    "    def __init__(self, hyper_ad=0, hyper_md=0):\n",
    "\n",
    "        # mag atk buff\n",
    "        use_squid = False\n",
    "        use_grape_juice = True\n",
    "\n",
    "        # mag dmg buff\n",
    "        use_escargot = True # stack\n",
    "        use_candy_cane = True\n",
    "\n",
    "        # crit dmg buff\n",
    "        use_chestnut = True\n",
    "\n",
    "        # mag atk buff\n",
    "        use_squid = False\n",
    "        use_grape_juice = True\n",
    "\n",
    "        # boss atk buff\n",
    "        use_cold_jelly = True # stack\n",
    "        use_chick_cookie = False\n",
    "        use_shrimp = True\n",
    "        use_boss_rush = False\n",
    "\n",
    "        # calculate buffed stats\n",
    "        self.mag_atk_increase += max(use_squid * 0.3, use_grape_juice * 0.5)\n",
    "        self.mag_dmg_increase += use_escargot * 0.2 + use_candy_cane * 0.3\n",
    "        self.boss_atk += use_cold_jelly * 0.2 + max(use_chick_cookie * 0.3, use_shrimp * 0.5) + use_boss_rush * 0.5\n",
    "        self.crit_dmg += use_chestnut * 0.3\n",
    "        self.final_dmg_increase = 0.063\n",
    "        \n",
    "        \n",
    "        self.hyper_md = hyper_md\n",
    "        self.hyper_ad = hyper_ad\n",
    "        self.mag_dmg_increase += self.hyper_mag_dmg_increase\n",
    "        \n",
    "        \n",
    "    @property\n",
    "    def hyper_additional_dmg_activation(self):\n",
    "        return pd.read_csv(\"./assets/hyper_ad.csv\", index_col=\"level\").loc[self.hyper_ad].act_chance\n",
    "    \n",
    "    @property\n",
    "    def hyper_additional_dmg(self):\n",
    "        return pd.read_csv(\"./assets/hyper_ad.csv\", index_col=\"level\").loc[self.hyper_ad].skill_cmg\n",
    "\n",
    "    @property\n",
    "    def hyper_mag_dmg_increase(self):\n",
    "        return pd.read_csv(\"./assets/hyper_md.csv\", index_col=\"level\").loc[self.hyper_md].md_increase\n",
    "    \n",
    "    def angel_ray(self, cast=1, single_target=False):\n",
    "        \n",
    "        if single_target:\n",
    "            target = 1\n",
    "            hit = 13\n",
    "            skill_dmg = 1.96\n",
    "        else:\n",
    "            target = 7\n",
    "            hit = 8\n",
    "            skill_dmg = 1.755\n",
    "        lines = target * hit * cast\n",
    "        \n",
    "        # angel ray attack\n",
    "        base_atk = self.mag_atk * skill_dmg * (1 + self.mag_dmg_increase) * (1 + self.final_dmg_increase)\n",
    "        normal_atk = base_atk * (1 + self.mag_atk_increase)\n",
    "        crit_atk = normal_atk * (1.2 + self.crit_dmg)\n",
    "        boss_atk = base_atk * (1 + self.mag_atk_increase + skill_dmg * self.boss_atk)\n",
    "        boss_crit = boss_atk * (1.2 + self.crit_dmg)\n",
    "        \n",
    "        # additional attack\n",
    "        add_lines = lines * self.hyper_additional_dmg_activation\n",
    "        add_base_atk = self.mag_atk * self.hyper_additional_dmg * (1 + self.mag_dmg_increase) * (1 + self.final_dmg_increase)\n",
    "        add_normal_atk = add_base_atk * (1 + self.mag_atk_increase)\n",
    "        add_crit_atk = add_normal_atk * (1.2 + self.crit_dmg)\n",
    "        add_boss_atk = add_base_atk * (1 + self.mag_atk_increase + self.hyper_additional_dmg * self.boss_atk)\n",
    "        add_boss_crit = add_boss_atk * (1.2 + self.crit_dmg)\n",
    "    \n",
    "        return {\n",
    "            \"normal_atk\": normal_atk * lines + add_normal_atk * add_lines,\n",
    "            \"crit_atk\": crit_atk * lines + add_crit_atk * add_lines,\n",
    "            \"boss_atk\": boss_atk * lines + add_boss_atk * add_lines,\n",
    "            \"boss_crit\": boss_crit * lines + add_boss_crit * add_lines\n",
    "        }\n",
    "    \n",
    "    def __str__(self):\n",
    "        return f\"\"\"\n",
    "Buffed stats:\n",
    "MAG ATK \\t{self.mag_atk}\n",
    "MA Increase \\t{round(self.mag_atk_increase * 100, 2)}%\n",
    "MD Increase \\t{round(self.mag_dmg_increase * 100, 2)}%\n",
    "BA Increase \\t{round(self.boss_atk * 100, 2)}%\n",
    "Crit DMG \\t{round(self.crit_dmg * 100, 2)}%\n",
    "FD Increase \\t{round(self.final_dmg_increase * 100, 2)}%\n",
    "        \"\"\"\n",
    "    "
   ]
  },
  {
   "cell_type": "code",
   "execution_count": 3,
   "metadata": {},
   "outputs": [
    {
     "name": "stdout",
     "output_type": "stream",
     "text": [
      "\n",
      "Buffed stats:\n",
      "MAG ATK \t28038\n",
      "MA Increase \t182.2%\n",
      "MD Increase \t98.8%\n",
      "BA Increase \t136.0%\n",
      "Crit DMG \t383.5%\n",
      "FD Increase \t6.3%\n",
      "        \n"
     ]
    },
    {
     "data": {
      "text/plain": [
       "{'normal_atk': 42604268.1123364,\n",
       " 'crit_atk': 214512489.94561377,\n",
       " 'boss_atk': 82847335.8232662,\n",
       " 'boss_crit': 417136335.87014526}"
      ]
     },
     "execution_count": 3,
     "metadata": {},
     "output_type": "execute_result"
    }
   ],
   "source": [
    "bishop = Bishop(hyper_md=20)\n",
    "print(bishop)\n",
    "\n",
    "bishop.angel_ray(cast=10, single_target=True)"
   ]
  },
  {
   "cell_type": "code",
   "execution_count": 4,
   "metadata": {},
   "outputs": [],
   "source": [
    "normal_atk = np.zeros(21)\n",
    "crit_atk = np.zeros(21)\n",
    "boss_atk = np.zeros(21)\n",
    "boss_crit = np.zeros(21)"
   ]
  },
  {
   "cell_type": "code",
   "execution_count": 5,
   "metadata": {},
   "outputs": [],
   "source": [
    "for hyper_ad in range(21):\n",
    "    hyper_md = 20 - hyper_ad\n",
    "    bishop = Bishop(hyper_ad=hyper_ad, hyper_md=hyper_md)\n",
    "    atk = bishop.angel_ray(cast=100, single_target=True)\n",
    "    \n",
    "    normal_atk[hyper_ad] = atk[\"normal_atk\"]\n",
    "    crit_atk[hyper_ad] = atk[\"crit_atk\"]\n",
    "    boss_atk[hyper_ad] = atk[\"boss_atk\"]\n",
    "    boss_crit[hyper_ad] = atk[\"boss_crit\"]"
   ]
  },
  {
   "cell_type": "code",
   "execution_count": 6,
   "metadata": {},
   "outputs": [
    {
     "data": {
      "text/plain": [
       "<matplotlib.lines.Line2D at 0x7f9e3800bf98>"
      ]
     },
     "execution_count": 6,
     "metadata": {},
     "output_type": "execute_result"
    },
    {
     "data": {
      "image/png": "[encoded data removed]",
      "text/plain": [
       "<Figure size 432x288 with 1 Axes>"
      ]
     },
     "metadata": {
      "needs_background": "light"
     },
     "output_type": "display_data"
    }
   ],
   "source": [
    "from matplotlib import pyplot as plt\n",
    "plt.plot(boss_atk)\n",
    "plt.xlabel(\"Additional Damage Hyper\")\n",
    "plt.ylabel(\"Angel Ray Boss Crit DMG (10 Cast)\")\n",
    "plt.axvline(1, linestyle=\"--\", color='r')"
   ]
  },
  {
   "cell_type": "code",
   "execution_count": 7,
   "metadata": {},
   "outputs": [
    {
     "data": {
      "text/plain": [
       "{'normal_atk': 42716888.72415965,\n",
       " 'crit_atk': 215079534.72614384,\n",
       " 'boss_atk': 82091187.67751314,\n",
       " 'boss_crit': 413329129.9562787}"
      ]
     },
     "execution_count": 7,
     "metadata": {},
     "output_type": "execute_result"
    }
   ],
   "source": [
    "bishop = Bishop(hyper_ad=20, hyper_md=0)\n",
    "bishop.angel_ray(cast=10, single_target=True)"
   ]
  },
  {
   "cell_type": "code",
   "execution_count": 8,
   "metadata": {},
   "outputs": [
    {
     "data": {
      "text/plain": [
       "{'normal_atk': 42604268.1123364,\n",
       " 'crit_atk': 214512489.94561377,\n",
       " 'boss_atk': 82847335.8232662,\n",
       " 'boss_crit': 417136335.87014526}"
      ]
     },
     "execution_count": 8,
     "metadata": {},
     "output_type": "execute_result"
    }
   ],
   "source": [
    "bishop = Bishop(hyper_ad=0, hyper_md=20)\n",
    "bishop.angel_ray(cast=10, single_target=True)"
   ]
  },
  {
   "cell_type": "code",
   "execution_count": null,
   "metadata": {},
   "outputs": [],
   "source": []
  }
 ],
 "metadata": {
  "kernelspec": {
   "display_name": "Python 3",
   "language": "python",
   "name": "python3"
  },
  "language_info": {
   "codemirror_mode": {
    "name": "ipython",
    "version": 3
   },
   "file_extension": ".py",
   "mimetype": "text/x-python",
   "name": "python",
   "nbconvert_exporter": "python",
   "pygments_lexer": "ipython3",
   "version": "3.7.4"
  }
 },
 "nbformat": 4,
 "nbformat_minor": 2
}
