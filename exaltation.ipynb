{
 "cells": [
  {
   "cell_type": "code",
   "execution_count": 16,
   "metadata": {},
   "outputs": [],
   "source": [
    "import random\n",
    "import matplotlib.pyplot as plt\n",
    "import numpy as np\n",
    "\n",
    "# 0.5 for for exaltation fodder\n",
    "# 0.3 for normal exaltation stone\n",
    "# 0.7 for intermediate exaltation stone\n",
    "# 0.95 for advanced exaltation stone\n",
    "# 0.3 for radiant exaltation stone\n",
    "BASE_SUCCESS_RATE = 0.5\n",
    "\n",
    "class Exalt:\n",
    "    \n",
    "    def __init__(self):\n",
    "        self.fail_count = 0\n",
    "        self.success_count = 0\n",
    "        self.additional_chance = 0\n",
    "        self.failure_reduce_attempt = 0\n",
    "        self.exalt_attempt = 0\n",
    "        self.cummulative_fail = 0\n",
    "    \n",
    "    def rng(self):\n",
    "        return random.random()\n",
    "    \n",
    "    def exalt(self, verbose=False):\n",
    "        success_rate = BASE_SUCCESS_RATE + self.additional_chance\n",
    "        self.exalt_attempt += 1\n",
    "        if self.rng() < success_rate:\n",
    "            self.success_count += 1\n",
    "            self.additional_chance = 0\n",
    "            if verbose: \n",
    "                print(f\"Exalt success ({success_rate}). \\tItem level {30 + self.success_count * 2}. \\tFail count {self.fail_count}/5\")\n",
    "        else:\n",
    "            self.fail_count += 1\n",
    "            self.cummulative_fail += 1\n",
    "            self.additional_chance += 0.05\n",
    "            if verbose: \n",
    "                print(f\"Exalt fail ({success_rate}). \\tItem level {30 + self.success_count * 2}. \\tFail count {self.fail_count}/5\")\n",
    "                \n",
    "    def failure_reduce(self, chance=0.2, verbose=False):\n",
    "        self.failure_reduce_attempt += 1\n",
    "        if self.rng() < chance:\n",
    "            self.fail_count -= 1\n",
    "            if verbose: print(f\"Reduced failure count by 1: Fail count {self.fail_count}/5\")"
   ]
  },
  {
   "cell_type": "code",
   "execution_count": 17,
   "metadata": {},
   "outputs": [
    {
     "name": "stdout",
     "output_type": "stream",
     "text": [
      "Exalt success (0.5). \tItem level 32. \tFail count 0/5\n",
      "Exalt success (0.5). \tItem level 34. \tFail count 0/5\n",
      "Exalt success (0.5). \tItem level 36. \tFail count 0/5\n",
      "Exalt fail (0.5). \tItem level 36. \tFail count 1/5\n",
      "Exalt success (0.55). \tItem level 38. \tFail count 1/5\n",
      "Exalt success (0.5). \tItem level 40. \tFail count 1/5\n",
      "Item reached 5 success:\n",
      "exaltation attempt: 6\n",
      "exaltation fail: 1\n",
      "failure reduction attempt: 0\n"
     ]
    }
   ],
   "source": [
    "item = Exalt()\n",
    "while item.success_count != 5:\n",
    "    while item.fail_count == 5:\n",
    "        item.failure_reduce(verbose=True)\n",
    "    item.exalt(verbose=True)\n",
    "    \n",
    "print(f\"\"\"Item reached 5 success:\n",
    "exaltation attempt: {item.exalt_attempt}\n",
    "exaltation fail: {item.cummulative_fail}\n",
    "failure reduction attempt: {item.failure_reduce_attempt}\"\"\")"
   ]
  },
  {
   "cell_type": "code",
   "execution_count": 39,
   "metadata": {},
   "outputs": [
    {
     "data": {
      "text/plain": [
       "19.445"
      ]
     },
     "execution_count": 39,
     "metadata": {},
     "output_type": "execute_result"
    }
   ],
   "source": [
    "total_trial = 10000\n",
    "total_passes = []\n",
    "total_fails = []\n",
    "fail_reduces = []\n",
    "for i in range(total_trial):\n",
    "    total_pass = 0\n",
    "    total_fail = 0\n",
    "    fail_reduce = 0\n",
    "    item = Exalt()\n",
    "    for j in range(42):\n",
    "        if item.success_count == 5:\n",
    "            item.fail_count = 0\n",
    "            item.success_count = 0\n",
    "        while item.fail_count == 5:\n",
    "            item.failure_reduce()\n",
    "        item.exalt(verbose=False)\n",
    "    total_passes.append(item.exalt_attempt)\n",
    "    total_fails.append(item.cummulative_fail)\n",
    "np.mean(total_fails)"
   ]
  },
  {
   "cell_type": "code",
   "execution_count": 40,
   "metadata": {},
   "outputs": [
    {
     "data": {
      "text/plain": [
       "20.0"
      ]
     },
     "execution_count": 40,
     "metadata": {},
     "output_type": "execute_result"
    }
   ],
   "source": [
    "# failing 20 in 42 attempts places at 55th percentile\n",
    "np.percentile(total_fails, 55)"
   ]
  },
  {
   "cell_type": "markdown",
   "metadata": {},
   "source": [
    "#### Distribution of Exatation Attempts, Reduction Attempt to Reach Lv40"
   ]
  },
  {
   "cell_type": "code",
   "execution_count": 3,
   "metadata": {},
   "outputs": [],
   "source": [
    "total_trial = 100000\n",
    "\n",
    "exalt_attempt = np.zeros(total_trial)\n",
    "reduce_attempt = np.zeros(total_trial)\n",
    "cum_fail_count = np.zeros(total_trial)\n",
    "\n",
    "for i in range(total_trial):\n",
    "    item = Exalt()\n",
    "    while item.success_count != 5:\n",
    "        while item.fail_count == 5:\n",
    "            item.failure_reduce()\n",
    "        item.exalt()\n",
    "    exalt_attempt[i] = item.exalt_attempt\n",
    "    reduce_attempt[i] = item.failure_reduce_attempt\n",
    "    cum_fail_count[i] = item.cummulative_fail"
   ]
  },
  {
   "cell_type": "code",
   "execution_count": 4,
   "metadata": {},
   "outputs": [
    {
     "name": "stdout",
     "output_type": "stream",
     "text": [
      "avg exaltation attempt: 13.55756\n",
      "std exaltation attempt: 3.8080476423490293\n",
      "13.98% will reach 5 success before 5 fail\n"
     ]
    },
    {
     "data": {
      "text/plain": [
       "Text(0.5, 1.0, 'Exaltation Attempt')"
      ]
     },
     "execution_count": 4,
     "metadata": {},
     "output_type": "execute_result"
    },
    {
     "data": {
      "image/png": "[encoded data removed]",
      "text/plain": [
       "<Figure size 432x288 with 1 Axes>"
      ]
     },
     "metadata": {
      "needs_background": "light"
     },
     "output_type": "display_data"
    }
   ],
   "source": [
    "print(f\"avg exaltation attempt: {np.mean(exalt_attempt)}\")\n",
    "print(f\"std exaltation attempt: {np.std(exalt_attempt)}\")\n",
    "print(\"%.2f%% will reach 5 success before 5 fail\"%(100*np.mean(exalt_attempt<10)))\n",
    "plt.hist(exalt_attempt, bins=20, density=True)\n",
    "plt.title(\"Exaltation Attempt\")"
   ]
  },
  {
   "cell_type": "code",
   "execution_count": 5,
   "metadata": {},
   "outputs": [
    {
     "name": "stdout",
     "output_type": "stream",
     "text": [
      "avg exaltation fail reduce attempt: 23.4181\n",
      "std exaltation fail reduce attempt: 20.521337977578362\n"
     ]
    },
    {
     "data": {
      "text/plain": [
       "Text(0.5, 1.0, 'Exaltation Failure Reduction')"
      ]
     },
     "execution_count": 5,
     "metadata": {},
     "output_type": "execute_result"
    },
    {
     "data": {
      "image/png": "[encoded data removed]",
      "text/plain": [
       "<Figure size 432x288 with 1 Axes>"
      ]
     },
     "metadata": {
      "needs_background": "light"
     },
     "output_type": "display_data"
    }
   ],
   "source": [
    "print(f\"avg exaltation fail reduce attempt: {np.mean(reduce_attempt)}\")\n",
    "print(f\"std exaltation fail reduce attempt: {np.std(reduce_attempt)}\")\n",
    "plt.hist(reduce_attempt, bins=20, density=True)\n",
    "plt.title(\"Exaltation Failure Reduction\")"
   ]
  },
  {
   "cell_type": "code",
   "execution_count": 6,
   "metadata": {},
   "outputs": [
    {
     "name": "stdout",
     "output_type": "stream",
     "text": [
      "avg exaltation fail: 8.55756\n",
      "std exaltation fail: 3.8080476423490293\n"
     ]
    },
    {
     "data": {
      "text/plain": [
       "Text(0.5, 1.0, 'Exaltation Fail')"
      ]
     },
     "execution_count": 6,
     "metadata": {},
     "output_type": "execute_result"
    },
    {
     "data": {
      "image/png": "[encoded data removed]",
      "text/plain": [
       "<Figure size 432x288 with 1 Axes>"
      ]
     },
     "metadata": {
      "needs_background": "light"
     },
     "output_type": "display_data"
    }
   ],
   "source": [
    "print(f\"avg exaltation fail: {np.mean(cum_fail_count)}\")\n",
    "print(f\"std exaltation fail: {np.std(cum_fail_count)}\")\n",
    "plt.hist(cum_fail_count, bins=20, density=True)\n",
    "plt.title(\"Exaltation Fail\")"
   ]
  },
  {
   "cell_type": "markdown",
   "metadata": {},
   "source": [
    "#### 57.76% of equipment will reach lv40 before 5/5 fail"
   ]
  },
  {
   "cell_type": "code",
   "execution_count": 7,
   "metadata": {},
   "outputs": [
    {
     "name": "stdout",
     "output_type": "stream",
     "text": [
      "14.1168% of equipment will reach lv40 before 5/5 fail\n"
     ]
    }
   ],
   "source": [
    "total_trial = 1000000\n",
    "lv40_count = 0\n",
    "fail_5_count = 0\n",
    "\n",
    "success_arr = np.zeros(total_trial)\n",
    "fail_arr = np.zeros(total_trial)\n",
    "\n",
    "lv40_total_exalt_count = []\n",
    "fail5_total_exalt_count = []\n",
    "\n",
    "for i in range(total_trial):\n",
    "    item = Exalt()\n",
    "    while max(item.success_count, item.fail_count) != 5:\n",
    "        item.exalt(verbose=False)\n",
    "        \n",
    "    if item.success_count == 5:\n",
    "        lv40_count += 1\n",
    "        lv40_total_exalt_count.append(item.success_count + item.fail_count)\n",
    "    elif item.fail_count == 5:\n",
    "        fail_5_count += 1\n",
    "        fail5_total_exalt_count.append(item.success_count + item.fail_count)\n",
    "    \n",
    "    success_arr[i] = item.success_count\n",
    "    fail_arr[i] = item.fail_count\n",
    "\n",
    "total_exalt_arr = success_arr + fail_arr\n",
    "print(f\"{100 * lv40_count / total_trial}% of equipment will reach lv40 before 5/5 fail\")"
   ]
  },
  {
   "cell_type": "code",
   "execution_count": 8,
   "metadata": {},
   "outputs": [
    {
     "name": "stdout",
     "output_type": "stream",
     "text": [
      "average: 8.082851637764932\n"
     ]
    },
    {
     "data": {
      "text/plain": [
       "<matplotlib.legend.Legend at 0x7f8167454160>"
      ]
     },
     "execution_count": 8,
     "metadata": {},
     "output_type": "execute_result"
    },
    {
     "data": {
      "image/png": "[encoded data removed]",
      "text/plain": [
       "<Figure size 432x288 with 1 Axes>"
      ]
     },
     "metadata": {
      "needs_background": "light"
     },
     "output_type": "display_data"
    }
   ],
   "source": [
    "plt.hist(lv40_total_exalt_count, density=True, alpha=0.5, label='lv40_exalt_count_distribution')\n",
    "print(f\"average: {np.mean(lv40_total_exalt_count)}\")\n",
    "plt.xlabel(\"count\")\n",
    "plt.legend(frameon=False)"
   ]
  },
  {
   "cell_type": "code",
   "execution_count": 9,
   "metadata": {},
   "outputs": [
    {
     "name": "stdout",
     "output_type": "stream",
     "text": [
      "average: 7.089022067179611\n"
     ]
    },
    {
     "data": {
      "text/plain": [
       "<matplotlib.legend.Legend at 0x7f8163a1e358>"
      ]
     },
     "execution_count": 9,
     "metadata": {},
     "output_type": "execute_result"
    },
    {
     "data": {
      "image/png": "[encoded data removed]",
      "text/plain": [
       "<Figure size 432x288 with 1 Axes>"
      ]
     },
     "metadata": {
      "needs_background": "light"
     },
     "output_type": "display_data"
    }
   ],
   "source": [
    "plt.hist(fail5_total_exalt_count, density=True, alpha=0.5, label='5_fail_count_distribution')\n",
    "print(f\"average: {np.mean(fail5_total_exalt_count)}\")\n",
    "plt.xlabel(\"count\")\n",
    "plt.legend(frameon=False)"
   ]
  },
  {
   "cell_type": "code",
   "execution_count": 10,
   "metadata": {},
   "outputs": [
    {
     "name": "stdout",
     "output_type": "stream",
     "text": [
      "average: 7.229319\n"
     ]
    },
    {
     "data": {
      "text/plain": [
       "<matplotlib.legend.Legend at 0x7f8167bf3cc0>"
      ]
     },
     "execution_count": 10,
     "metadata": {},
     "output_type": "execute_result"
    },
    {
     "data": {
      "image/png": "[encoded data removed]",
      "text/plain": [
       "<Figure size 432x288 with 1 Axes>"
      ]
     },
     "metadata": {
      "needs_background": "light"
     },
     "output_type": "display_data"
    }
   ],
   "source": [
    "plt.hist(total_exalt_arr, density=True, alpha=0.5, label='exalt_count_distribution')\n",
    "print(f\"average: {np.mean(total_exalt_arr)}\")\n",
    "plt.xlabel(\"count\")\n",
    "plt.legend(frameon=False)"
   ]
  },
  {
   "cell_type": "code",
   "execution_count": 11,
   "metadata": {},
   "outputs": [
    {
     "data": {
      "text/plain": [
       "<matplotlib.legend.Legend at 0x7f816a05cf28>"
      ]
     },
     "execution_count": 11,
     "metadata": {},
     "output_type": "execute_result"
    },
    {
     "data": {
      "image/png": "[encoded data removed]",
      "text/plain": [
       "<Figure size 432x288 with 1 Axes>"
      ]
     },
     "metadata": {
      "needs_background": "light"
     },
     "output_type": "display_data"
    }
   ],
   "source": [
    "plt.hist(fail_arr, density=True, alpha=0.5, label='exalt_fail')\n",
    "plt.hist(success_arr, density=True, alpha=0.5, label='exalt_success')\n",
    "plt.xlabel(\"count\")\n",
    "plt.legend(frameon=False)"
   ]
  },
  {
   "cell_type": "markdown",
   "metadata": {},
   "source": [
    "#### Failing 5 Exalt in a Row"
   ]
  },
  {
   "cell_type": "code",
   "execution_count": 12,
   "metadata": {},
   "outputs": [
    {
     "name": "stdout",
     "output_type": "stream",
     "text": [
      "probability of 5 fail in a row: 0.075073\n"
     ]
    }
   ],
   "source": [
    "trial = 1000000\n",
    "failed_5_in_a_row = 0\n",
    "for i in range(trial):\n",
    "    item = Exalt()\n",
    "    for j in range(5):\n",
    "        item.exalt()\n",
    "    if item.fail_count == 5:\n",
    "        failed_5_in_a_row += 1\n",
    "        \n",
    "print(f\"probability of 5 fail in a row: {failed_5_in_a_row / trial}\")"
   ]
  },
  {
   "cell_type": "code",
   "execution_count": 13,
   "metadata": {},
   "outputs": [
    {
     "data": {
      "text/plain": [
       "0.00945"
      ]
     },
     "execution_count": 13,
     "metadata": {},
     "output_type": "execute_result"
    }
   ],
   "source": [
    "0.5 * 0.45 * 0.4 * 0.35 * 0.3"
   ]
  }
 ],
 "metadata": {
  "kernelspec": {
   "display_name": "Python 3",
   "language": "python",
   "name": "python3"
  },
  "language_info": {
   "codemirror_mode": {
    "name": "ipython",
    "version": 3
   },
   "file_extension": ".py",
   "mimetype": "text/x-python",
   "name": "python",
   "nbconvert_exporter": "python",
   "pygments_lexer": "ipython3",
   "version": "3.7.0"
  }
 },
 "nbformat": 4,
 "nbformat_minor": 2
}
