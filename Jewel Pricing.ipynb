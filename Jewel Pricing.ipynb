{
 "cells": [
  {
   "cell_type": "markdown",
   "metadata": {},
   "source": [
    "#### Pricing of SS Jewel Exchange Ticket\n",
    "\n",
    "![alt-text](assets/daily_dungeon.PNG)"
   ]
  },
  {
   "cell_type": "markdown",
   "metadata": {},
   "source": [
    "Assume player buys blue, green, orange jewel per daily dungeon run, how much mesos is required to get a SS jewel\n",
    "* Blue: 3.5M\n",
    "* Green: 0.5M\n",
    "* Orange: 3.5M"
   ]
  },
  {
   "cell_type": "code",
   "execution_count": 1,
   "metadata": {},
   "outputs": [],
   "source": [
    "from random import random\n",
    "import numpy as np\n",
    "\n",
    "rng = lambda thresh: random() <= thresh"
   ]
  },
  {
   "cell_type": "code",
   "execution_count": 2,
   "metadata": {},
   "outputs": [],
   "source": [
    "ORNAGE_COST = 3.5\n",
    "BLUE_COST = 3.5\n",
    "GREEN_COST = 0.5\n",
    "\n",
    "FUSE_S_COST = 0.09\n",
    "FUSE_SS_COST = 0.27\n",
    "\n",
    "ORANGE_THRESH = 0.1\n",
    "BLUE_THRESH = 0.3\n",
    "\n",
    "FUSE_S_PROB = 0.1\n",
    "FUSE_SS_PROB = 0.05\n",
    "\n",
    "class Jewel:\n",
    "    def __init__(self, use_orange=True, use_green=True, use_blue=True, verbose=False):\n",
    "        self.mesos_spent = 0\n",
    "        self.dungeon_run = 0\n",
    "        \n",
    "        self.orange_jewel = 0\n",
    "        self.green_jewel = 0\n",
    "        self.blue_jewel = 0\n",
    "        \n",
    "        self.use_orange = use_orange\n",
    "        self.use_green = use_green\n",
    "        self.use_blue = use_blue\n",
    "        \n",
    "        self.use_lucky_for_s = True\n",
    "        self.use_lucky_for_ss = True\n",
    "        \n",
    "        self.a_class = 0\n",
    "        self.s_class = 0\n",
    "        self.ss_class = 0\n",
    "        \n",
    "        self.lucky_3pct = 0\n",
    "        self.lucky_5pct = 0\n",
    "        \n",
    "        self.fuse_s_attempt = 0\n",
    "        self.fuse_ss_attempt = 0\n",
    "        \n",
    "        self.verbose = verbose\n",
    "        \n",
    "    def ss_fused(self):\n",
    "        return self.ss_class != 0\n",
    "        \n",
    "    def run_daily_dungeon(self):\n",
    "        self.a_class += 1\n",
    "        self.dungeon_run += 1\n",
    "        \n",
    "        if self.use_orange:\n",
    "            self.mesos_spent += ORNAGE_COST\n",
    "            self.s_class += rng(ORANGE_THRESH)\n",
    "            \n",
    "        if self.use_green:\n",
    "            self.mesos_spent += GREEN_COST\n",
    "            self.a_class += 1\n",
    "            \n",
    "        if self.use_blue:\n",
    "            self.mesos_spent += BLUE_COST\n",
    "            even_prob = 1 / 4\n",
    "            if rng(BLUE_THRESH):\n",
    "                rn = random()\n",
    "                if rn <= 0.25:\n",
    "                    self.a_class += 1\n",
    "                elif rn <= 0.5:\n",
    "                    self.s_class += 1\n",
    "                elif rn <= 0.75:\n",
    "                    self.lucky_3pct += 1\n",
    "                else:\n",
    "                    self.lucky_5pct += 1\n",
    "    \n",
    "    def can_fuse_s(self):\n",
    "        return self.a_class >= 3\n",
    "    \n",
    "    def can_fuse_ss(self):\n",
    "        return self.s_class >= 3\n",
    "    \n",
    "    def use_lucky(self, chance):\n",
    "        # prioritize 3% lucky jewel\n",
    "        if self.lucky_3pct > 0:\n",
    "            self.lucky_3pct -= 1\n",
    "            chance += 0.03\n",
    "        elif self.lucky_5pct > 0:\n",
    "            self.lucky_5pct -= 1\n",
    "            chance += 0.05\n",
    "        return chance\n",
    "        \n",
    "    def fuse_s(self):\n",
    "        self.a_class -= 3\n",
    "        chance = FUSE_S_PROB\n",
    "        if self.use_lucky_for_s:\n",
    "            chance = self.use_lucky(chance)\n",
    "        self.s_class += rng(chance)\n",
    "        self.mesos_spent += FUSE_S_COST\n",
    "        self.fuse_s_attempt += 1\n",
    "        \n",
    "        if self.verbose:\n",
    "            print(f\"fuse_s: {self.s_class}, chance={chance}\")\n",
    "    \n",
    "    def fuse_ss(self):\n",
    "        self.s_class -= 3\n",
    "        chance = FUSE_SS_PROB\n",
    "        if self.use_lucky_for_ss:\n",
    "            chance = self.use_lucky(chance)\n",
    "        self.ss_class += rng(chance)\n",
    "        self.mesos_spent += FUSE_SS_COST\n",
    "        self.fuse_ss_attempt += 1\n",
    "        \n",
    "        if self.verbose:\n",
    "            print(f\"fuse_ss: {self.ss_class}, chance={chance}\")\n",
    "        \n",
    "    def fuse_jewel(self):\n",
    "        while self.can_fuse_s():\n",
    "            self.fuse_s()\n",
    "        while self.can_fuse_ss():\n",
    "            self.fuse_ss()\n",
    "    \n",
    "    def __str__(self):\n",
    "        return f\"\"\"DailyDungeon(\n",
    "        a_class={self.a_class}, \n",
    "        s_class={self.s_class}, \n",
    "        ss_class={self.ss_class}, \n",
    "        run={self.dungeon_run}, \n",
    "        mesos={self.mesos_spent}, \n",
    "        lucky_5pct={self.lucky_5pct}, \n",
    "        lucky_3pct={self.lucky_3pct},\n",
    "        s_attempt={self.fuse_s_attempt},\n",
    "        ss_attempt={self.fuse_ss_attempt})\"\"\""
   ]
  },
  {
   "cell_type": "code",
   "execution_count": 3,
   "metadata": {},
   "outputs": [],
   "source": [
    "a = Jewel()"
   ]
  },
  {
   "cell_type": "code",
   "execution_count": 4,
   "metadata": {},
   "outputs": [
    {
     "name": "stdout",
     "output_type": "stream",
     "text": [
      "DailyDungeon(\n",
      "        a_class=2, \n",
      "        s_class=1, \n",
      "        ss_class=0, \n",
      "        run=1, \n",
      "        mesos=7.5, \n",
      "        lucky_5pct=0, \n",
      "        lucky_3pct=0,\n",
      "        s_attempt=0,\n",
      "        ss_attempt=0)\n"
     ]
    }
   ],
   "source": [
    "a.run_daily_dungeon()\n",
    "a.fuse_jewel()\n",
    "print(a)"
   ]
  },
  {
   "cell_type": "markdown",
   "metadata": {},
   "source": [
    "#### Monte Carlo Simulation\n",
    "    "
   ]
  },
  {
   "cell_type": "code",
   "execution_count": 5,
   "metadata": {},
   "outputs": [
    {
     "name": "stdout",
     "output_type": "stream",
     "text": [
      "average mesos per ss jewel: 1.80 billion\n",
      "average dungeon run per ss jewel: 237.71\n",
      "average s fuse attempt per ss jewel: 164.12\n",
      "average ss fuse attempt per ss jewel: 19.73\n",
      "empirical probability of fusing SS: 0.05\n"
     ]
    }
   ],
   "source": [
    "trials = 10000\n",
    "s_attempt_arr = np.zeros(trials)\n",
    "ss_attempt_arr = np.zeros(trials)\n",
    "run_arr = np.zeros(trials)\n",
    "mesos_arr = np.zeros(trials)\n",
    "\n",
    "for i in range(trials):\n",
    "    state = Jewel(verbose=False)\n",
    "    while state.ss_class == 0:\n",
    "        state.run_daily_dungeon()\n",
    "        state.fuse_jewel()\n",
    "    s_attempt_arr[i] = state.fuse_s_attempt\n",
    "    ss_attempt_arr[i] = state.fuse_ss_attempt\n",
    "    run_arr[i] = state.dungeon_run\n",
    "    mesos_arr[i] = state.mesos_spent\n",
    "\n",
    "print(\"average mesos per ss jewel: %.2f billion\"%(np.average(mesos_arr)/1000))\n",
    "print(\"average dungeon run per ss jewel: %.2f\"%(np.average(run_arr)))\n",
    "print(\"average s fuse attempt per ss jewel: %.2f\"%(np.average(s_attempt_arr)))\n",
    "print(\"average ss fuse attempt per ss jewel: %.2f\"%(np.average(ss_attempt_arr)))\n",
    "print(\"empirical probability of fusing SS: %.2f\"%(1/np.average(ss_attempt_arr)))"
   ]
  },
  {
   "cell_type": "code",
   "execution_count": 6,
   "metadata": {},
   "outputs": [
    {
     "name": "stdout",
     "output_type": "stream",
     "text": [
      "average mesos per ss jewel: 1.58 billion\n",
      "average dungeon run per ss jewel: 388.57\n",
      "average s fuse attempt per ss jewel: 268.51\n",
      "average ss fuse attempt per ss jewel: 19.41\n",
      "empirical probability of fusing SS: 0.05\n"
     ]
    }
   ],
   "source": [
    "trials = 10000\n",
    "s_attempt_arr = np.zeros(trials)\n",
    "ss_attempt_arr = np.zeros(trials)\n",
    "run_arr = np.zeros(trials)\n",
    "mesos_arr = np.zeros(trials)\n",
    "\n",
    "for i in range(trials):\n",
    "    state = Jewel(use_orange=False, verbose=False)\n",
    "    while state.ss_class == 0:\n",
    "        state.run_daily_dungeon()\n",
    "        state.fuse_jewel()\n",
    "    s_attempt_arr[i] = state.fuse_s_attempt\n",
    "    ss_attempt_arr[i] = state.fuse_ss_attempt\n",
    "    run_arr[i] = state.dungeon_run\n",
    "    mesos_arr[i] = state.mesos_spent\n",
    "    \n",
    "print(\"average mesos per ss jewel: %.2f billion\"%(np.average(mesos_arr)/1000))\n",
    "print(\"average dungeon run per ss jewel: %.2f\"%(np.average(run_arr)))\n",
    "print(\"average s fuse attempt per ss jewel: %.2f\"%(np.average(s_attempt_arr)))\n",
    "print(\"average ss fuse attempt per ss jewel: %.2f\"%(np.average(ss_attempt_arr)))\n",
    "print(\"empirical probability of fusing SS: %.2f\"%(1/np.average(ss_attempt_arr)))"
   ]
  },
  {
   "cell_type": "code",
   "execution_count": null,
   "metadata": {},
   "outputs": [],
   "source": []
  }
 ],
 "metadata": {
  "kernelspec": {
   "display_name": "Python 3",
   "language": "python",
   "name": "python3"
  },
  "language_info": {
   "codemirror_mode": {
    "name": "ipython",
    "version": 3
   },
   "file_extension": ".py",
   "mimetype": "text/x-python",
   "name": "python",
   "nbconvert_exporter": "python",
   "pygments_lexer": "ipython3",
   "version": "3.7.0"
  }
 },
 "nbformat": 4,
 "nbformat_minor": 2
}
