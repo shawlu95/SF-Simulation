{
 "cells": [
  {
   "cell_type": "code",
   "execution_count": 1,
   "metadata": {},
   "outputs": [],
   "source": [
    "from enum import Enum\n",
    "import math\n",
    "\n",
    "class STAT_TYPE(Enum):\n",
    "    FIXED = 'FIXED'\n",
    "    PERCENTAGE = 'PERCENTAGE'"
   ]
  },
  {
   "cell_type": "code",
   "execution_count": 2,
   "metadata": {},
   "outputs": [],
   "source": [
    "class Option:\n",
    "    def __init__(self, stat_type=STAT_TYPE.FIXED, value=None):\n",
    "        self.stat_type = stat_type\n",
    "        self.value = value\n",
    "    \n",
    "    @property\n",
    "    def is_fixed_type(self):\n",
    "        return self.stat_type == STAT_TYPE.FIXED\n",
    "    \n",
    "    @property\n",
    "    def is_percentage_type(self):\n",
    "        return self.stat_type == STAT_TYPE.PERCENTAGE\n",
    "    \n",
    "    def find_scaled_option(self, increase_option, increase):\n",
    "        # fixed scales with fixed\n",
    "        if increase_option.is_fixed_type and self.is_fixed_type:\n",
    "            self.value = increase / increase_option.value\n",
    "        \n",
    "        # fixed scales with percentage\n",
    "        if increase_option.is_fixed_type and self.is_percentage_type: \n",
    "            self.value = increase / increase_option.value / 1000\n",
    "            \n",
    "        # percentage scales with percentage\n",
    "        if increase_option.is_percentage_type and self.is_percentage_type: \n",
    "            self.value = increase / increase_option.value / 100\n",
    "        \n",
    "    \n",
    "    @staticmethod\n",
    "    def scale(increase_option, scale_option):\n",
    "        increase = 0\n",
    "        \n",
    "        # fixed scales with fixed\n",
    "        if increase_option.is_fixed_type and scale_option.is_fixed_type:\n",
    "            increase = math.floor(increase_option.value * scale_option.value)\n",
    "        \n",
    "        # fixed scales with percentage\n",
    "        if increase_option.is_fixed_type and scale_option.is_percentage_type: \n",
    "            increase = math.floor(increase_option.value * scale_option.value * 1000)\n",
    "            \n",
    "        # percentage scales with percentage\n",
    "        if increase_option.is_percentage_type and scale_option.is_percentage_type: \n",
    "            increase = round(increase_option.value * scale_option.value * 100, 1)\n",
    "            \n",
    "        return increase"
   ]
  },
  {
   "cell_type": "markdown",
   "metadata": {},
   "source": [
    "![alt-text](./assets/flame_example_1.png)"
   ]
  },
  {
   "cell_type": "code",
   "execution_count": 3,
   "metadata": {},
   "outputs": [
    {
     "name": "stdout",
     "output_type": "stream",
     "text": [
      "\n",
      "phy def scale with crit rate 0.8%% -> 10.2%\n",
      "phy def increase: 81\n",
      "verify scaled with crit rate 10.125%\n",
      "\n"
     ]
    }
   ],
   "source": [
    "# fixed to percenrage: phy def scales with crite rate 80% -> 10.2%\n",
    "# phy def increase by 80% * 10.2% * 1000 = 81\n",
    "phy_def = Option(stat_type=STAT_TYPE.FIXED, value=0.8)\n",
    "crit_rate = Option(stat_type=STAT_TYPE.PERCENTAGE, value=0.102)\n",
    "increase = Option.scale(increase_option=phy_def, scale_option=crit_rate)\n",
    "\n",
    "true_value = crit_rate.value\n",
    "crit_rate.find_scaled_option(increase_option=phy_def, increase=increase)\n",
    "\n",
    "print(f\"\"\"\n",
    "phy def scale with crit rate {phy_def.value}%% -> {100 * true_value}%\n",
    "phy def increase: {increase}\n",
    "verify scaled with crit rate {100 * crit_rate.value}%\n",
    "\"\"\")"
   ]
  },
  {
   "cell_type": "code",
   "execution_count": 4,
   "metadata": {},
   "outputs": [
    {
     "name": "stdout",
     "output_type": "stream",
     "text": [
      "\n",
      "phy def scale with max mp 0.01279%% -> 10492\n",
      "phy def increase: 134\n",
      "verify scaled with crit rate 10476.935105551212\n",
      "\n"
     ]
    }
   ],
   "source": [
    "# fixed to fixed: phy def scale with max mp: 1.279% > 10492\n",
    "# phy def increase by 1.279 * 10492 = 134\n",
    "phy_def = Option(stat_type=STAT_TYPE.FIXED, value=0.01279)\n",
    "max_mp = Option(stat_type=STAT_TYPE.FIXED, value=10492)\n",
    "increase = Option.scale(increase_option=phy_def, scale_option=max_mp)\n",
    "\n",
    "true_value = max_mp.value\n",
    "max_mp.find_scaled_option(increase_option=phy_def, increase=increase)\n",
    "\n",
    "print(f\"\"\"\n",
    "phy def scale with max mp {phy_def.value}%% -> {true_value}\n",
    "phy def increase: {increase}\n",
    "verify scaled with crit rate {max_mp.value}\n",
    "\"\"\")"
   ]
  },
  {
   "cell_type": "markdown",
   "metadata": {},
   "source": [
    "![alt-text](./assets/flame_example_2.png)"
   ]
  },
  {
   "cell_type": "code",
   "execution_count": 5,
   "metadata": {},
   "outputs": [
    {
     "name": "stdout",
     "output_type": "stream",
     "text": [
      "\n",
      "crit rate scale with exp 3.84%% -> 31.4%\n",
      "crit rate increase: 1.2%\n",
      "verify scaled with exp 31.25%\n",
      "\n"
     ]
    }
   ],
   "source": [
    "# percentage to percenrage: crit rate scale with exp 3.84% -> 31.4%\n",
    "# crite rate increase by 1.2%\n",
    "crit_rate = Option(stat_type=STAT_TYPE.PERCENTAGE, value=0.0384)\n",
    "exp_increase = Option(stat_type=STAT_TYPE.PERCENTAGE, value=0.314)\n",
    "increase = Option.scale(increase_option=crit_rate, scale_option=exp_increase)\n",
    "\n",
    "true_value = exp_increase.value\n",
    "exp_increase.find_scaled_option(increase_option=crit_rate, increase=increase)\n",
    "\n",
    "print(f\"\"\"\n",
    "crit rate scale with exp {100 * crit_rate.value}%% -> {100 * true_value}%\n",
    "crit rate increase: {increase}%\n",
    "verify scaled with exp {100 * exp_increase.value}%\n",
    "\"\"\")"
   ]
  },
  {
   "cell_type": "code",
   "execution_count": 6,
   "metadata": {},
   "outputs": [
    {
     "name": "stdout",
     "output_type": "stream",
     "text": [
      "\n",
      "crit dmg scale with exp 9.0%% -> 31.4%\n",
      "crit dmg increase: 2.8%\n",
      "verify scaled with exp 31.11111111111111%\n",
      "\n"
     ]
    }
   ],
   "source": [
    "# percentage to percenrage: crit damage scale with exp 9% -> 31.4%\n",
    "# crit damage increase by 2.8%\n",
    "crit_dmg = Option(stat_type=STAT_TYPE.PERCENTAGE, value=0.09)\n",
    "exp_increase = Option(stat_type=STAT_TYPE.PERCENTAGE, value=0.314)\n",
    "increase = Option.scale(increase_option=crit_dmg, scale_option=exp_increase)\n",
    "\n",
    "true_value = exp_increase.value\n",
    "exp_increase.find_scaled_option(increase_option=crit_dmg, increase=increase)\n",
    "\n",
    "print(f\"\"\"\n",
    "crit dmg scale with exp {100 * crit_dmg.value}%% -> {100 * true_value}%\n",
    "crit dmg increase: {increase}%\n",
    "verify scaled with exp {100 * exp_increase.value}%\n",
    "\"\"\")"
   ]
  },
  {
   "cell_type": "markdown",
   "metadata": {},
   "source": [
    "### My Flames\n",
    "#### Wand"
   ]
  },
  {
   "cell_type": "code",
   "execution_count": 8,
   "metadata": {},
   "outputs": [
    {
     "name": "stdout",
     "output_type": "stream",
     "text": [
      "max HP: 59375.0\n"
     ]
    }
   ],
   "source": [
    "# mag atk scales with max hp: 0.8%, increase 475\n",
    "mag_atk = Option(stat_type=STAT_TYPE.FIXED, value=0.008)\n",
    "max_hp = Option(stat_type=STAT_TYPE.FIXED)\n",
    "max_hp.find_scaled_option(increase_option=mag_atk, increase=475)\n",
    "print(f\"max HP: {max_hp.value}\")"
   ]
  },
  {
   "cell_type": "code",
   "execution_count": 10,
   "metadata": {},
   "outputs": [
    {
     "name": "stdout",
     "output_type": "stream",
     "text": [
      "crit dmg: 1.7737350767481523\n"
     ]
    }
   ],
   "source": [
    "# mag atk scales with crit dmg: 17.59%, increase 312\n",
    "mag_atk = Option(stat_type=STAT_TYPE.FIXED, value=0.1759)\n",
    "crit_dmg = Option(stat_type=STAT_TYPE.PERCENTAGE)\n",
    "crit_dmg.find_scaled_option(increase_option=mag_atk, increase=312)\n",
    "print(f\"crit dmg: {crit_dmg.value}\")"
   ]
  },
  {
   "cell_type": "markdown",
   "metadata": {},
   "source": [
    "#### Hat"
   ]
  },
  {
   "cell_type": "code",
   "execution_count": 9,
   "metadata": {},
   "outputs": [
    {
     "name": "stdout",
     "output_type": "stream",
     "text": [
      "exp increase: 0.9166666666666667\n"
     ]
    }
   ],
   "source": [
    "# crit dmg scales with exp: 9.6%, increase 8.4%\n",
    "crit_dmg = Option(stat_type=STAT_TYPE.PERCENTAGE, value=0.096)\n",
    "exp_increase = Option(stat_type=STAT_TYPE.PERCENTAGE)\n",
    "exp_increase.find_scaled_option(increase_option=crit_dmg, increase=8.8)\n",
    "print(f\"exp increase: {exp_increase.value}\")"
   ]
  },
  {
   "cell_type": "code",
   "execution_count": 10,
   "metadata": {},
   "outputs": [
    {
     "name": "stdout",
     "output_type": "stream",
     "text": [
      "crit rate: 0.12103746397694524\n"
     ]
    }
   ],
   "source": [
    "# phy def scales with crit rate, increase 84\n",
    "phy_def = Option(stat_type=STAT_TYPE.FIXED, value=0.694)\n",
    "crit_rate = Option(stat_type=STAT_TYPE.PERCENTAGE)\n",
    "crit_rate.find_scaled_option(increase_option=phy_def, increase=84)\n",
    "print(f\"crit rate: {crit_rate.value}\")"
   ]
  },
  {
   "cell_type": "markdown",
   "metadata": {},
   "source": [
    "#### Gloves"
   ]
  },
  {
   "cell_type": "code",
   "execution_count": 11,
   "metadata": {},
   "outputs": [
    {
     "name": "stdout",
     "output_type": "stream",
     "text": [
      "exp increase: 0.859375\n"
     ]
    }
   ],
   "source": [
    "# crit rate scales with exp: 3.84%, increase 3.3%\n",
    "crit_rate = Option(stat_type=STAT_TYPE.PERCENTAGE, value=0.0384)\n",
    "exp_increase = Option(stat_type=STAT_TYPE.PERCENTAGE)\n",
    "exp_increase.find_scaled_option(increase_option=crit_rate, increase=3.3)\n",
    "print(f\"exp increase: {exp_increase.value}\")"
   ]
  },
  {
   "cell_type": "code",
   "execution_count": 12,
   "metadata": {},
   "outputs": [
    {
     "name": "stdout",
     "output_type": "stream",
     "text": [
      "exp increase: 0.8666666666666667\n"
     ]
    }
   ],
   "source": [
    "# crit dmg scales with exp: 9%, increase 7.8%\n",
    "crit_dmg = Option(stat_type=STAT_TYPE.PERCENTAGE, value=0.09)\n",
    "exp_increase = Option(stat_type=STAT_TYPE.PERCENTAGE)\n",
    "exp_increase.find_scaled_option(increase_option=crit_dmg, increase=7.8)\n",
    "print(f\"exp increase: {exp_increase.value}\")"
   ]
  },
  {
   "cell_type": "markdown",
   "metadata": {},
   "source": [
    "#### Outfit"
   ]
  },
  {
   "cell_type": "code",
   "execution_count": 13,
   "metadata": {},
   "outputs": [
    {
     "name": "stdout",
     "output_type": "stream",
     "text": [
      "exp increase: 0.8653846153846154\n"
     ]
    }
   ],
   "source": [
    "# crit rate scales with exp: 4.16%, increase 3.6%\n",
    "crit_rate = Option(stat_type=STAT_TYPE.PERCENTAGE, value=0.0416)\n",
    "exp_increase = Option(stat_type=STAT_TYPE.PERCENTAGE)\n",
    "exp_increase.find_scaled_option(increase_option=crit_rate, increase=3.6)\n",
    "print(f\"exp increase: {exp_increase.value}\")"
   ]
  },
  {
   "cell_type": "code",
   "execution_count": 14,
   "metadata": {},
   "outputs": [
    {
     "name": "stdout",
     "output_type": "stream",
     "text": [
      "boss atk: 0.06696428571428571\n"
     ]
    }
   ],
   "source": [
    "# crit rate scales with ba: 4.48%, increase 0.3%\n",
    "crit_rate = Option(stat_type=STAT_TYPE.PERCENTAGE, value=0.0448)\n",
    "boss_atk = Option(stat_type=STAT_TYPE.PERCENTAGE)\n",
    "boss_atk.find_scaled_option(increase_option=crit_rate, increase=0.3)\n",
    "print(f\"boss atk: {boss_atk.value}\")"
   ]
  },
  {
   "cell_type": "markdown",
   "metadata": {},
   "source": [
    "#### Shoulders"
   ]
  },
  {
   "cell_type": "code",
   "execution_count": 15,
   "metadata": {},
   "outputs": [
    {
     "name": "stdout",
     "output_type": "stream",
     "text": [
      "max hp: 54722.222222222226\n"
     ]
    }
   ],
   "source": [
    "# phy def scales with max hp, increase 197\n",
    "phy_def = Option(stat_type=STAT_TYPE.FIXED, value=0.0036)\n",
    "max_hp = Option(stat_type=STAT_TYPE.FIXED)\n",
    "max_hp.find_scaled_option(increase_option=phy_def, increase=197)\n",
    "print(f\"max hp: {max_hp.value}\")"
   ]
  },
  {
   "cell_type": "code",
   "execution_count": 16,
   "metadata": {},
   "outputs": [
    {
     "name": "stdout",
     "output_type": "stream",
     "text": [
      "exp increase: 0.8541666666666665\n"
     ]
    }
   ],
   "source": [
    "# crit rate scales with exp: 4.8%, increase 4.1%\n",
    "crit_rate = Option(stat_type=STAT_TYPE.PERCENTAGE, value=0.048)\n",
    "exp_increase = Option(stat_type=STAT_TYPE.PERCENTAGE)\n",
    "exp_increase.find_scaled_option(increase_option=crit_rate, increase=4.1)\n",
    "print(f\"exp increase: {exp_increase.value}\")"
   ]
  },
  {
   "cell_type": "markdown",
   "metadata": {},
   "source": [
    "#### Shoes"
   ]
  },
  {
   "cell_type": "code",
   "execution_count": 17,
   "metadata": {},
   "outputs": [
    {
     "name": "stdout",
     "output_type": "stream",
     "text": [
      "exp increase: 0.875\n"
     ]
    }
   ],
   "source": [
    "# crit dmg scales with exp: 9.6%, increase 8.4%\n",
    "crit_dmg = Option(stat_type=STAT_TYPE.PERCENTAGE, value=0.096)\n",
    "exp_increase = Option(stat_type=STAT_TYPE.PERCENTAGE)\n",
    "exp_increase.find_scaled_option(increase_option=crit_dmg, increase=8.4)\n",
    "print(f\"exp increase: {exp_increase.value}\")"
   ]
  },
  {
   "cell_type": "code",
   "execution_count": 18,
   "metadata": {},
   "outputs": [
    {
     "name": "stdout",
     "output_type": "stream",
     "text": [
      "boss atk: 0.07874015748031496\n"
     ]
    }
   ],
   "source": [
    "# mag def scales with ba: 50.8%, increase 40\n",
    "mag_def = Option(stat_type=STAT_TYPE.FIXED, value=0.508)\n",
    "boss_atk = Option(stat_type=STAT_TYPE.PERCENTAGE)\n",
    "boss_atk.find_scaled_option(increase_option=mag_def, increase=40)\n",
    "print(f\"boss atk: {boss_atk.value}\")"
   ]
  },
  {
   "cell_type": "markdown",
   "metadata": {},
   "source": [
    "#### Belt"
   ]
  },
  {
   "cell_type": "code",
   "execution_count": 19,
   "metadata": {},
   "outputs": [
    {
     "name": "stdout",
     "output_type": "stream",
     "text": [
      "exp increase: 0.8705357142857143\n"
     ]
    }
   ],
   "source": [
    "# crit rate scales with exp: 4.48%, increase 3.9%\n",
    "crit_rate = Option(stat_type=STAT_TYPE.PERCENTAGE, value=0.0448)\n",
    "exp_increase = Option(stat_type=STAT_TYPE.PERCENTAGE)\n",
    "exp_increase.find_scaled_option(increase_option=crit_rate, increase=3.9)\n",
    "print(f\"exp increase: {exp_increase.value}\")"
   ]
  },
  {
   "cell_type": "markdown",
   "metadata": {},
   "source": [
    "#### Cape"
   ]
  },
  {
   "cell_type": "code",
   "execution_count": 20,
   "metadata": {},
   "outputs": [
    {
     "name": "stdout",
     "output_type": "stream",
     "text": [
      "exp increase: 0.8704545454545455\n"
     ]
    }
   ],
   "source": [
    "# mag atk scales with exp 88%, increase 766\n",
    "mag_atk = Option(stat_type=STAT_TYPE.FIXED, value=0.88)\n",
    "exp_increase = Option(stat_type=STAT_TYPE.PERCENTAGE)\n",
    "exp_increase.find_scaled_option(increase_option=mag_atk, increase=766)\n",
    "print(f\"exp increase: {exp_increase.value}\")"
   ]
  },
  {
   "cell_type": "code",
   "execution_count": 21,
   "metadata": {},
   "outputs": [
    {
     "name": "stdout",
     "output_type": "stream",
     "text": [
      "boss atk: 0.07945205479452055\n"
     ]
    }
   ],
   "source": [
    "# mag atk scales with boss atk 73%, increase 58\n",
    "mag_atk = Option(stat_type=STAT_TYPE.FIXED, value=0.73)\n",
    "boss_atk = Option(stat_type=STAT_TYPE.PERCENTAGE)\n",
    "boss_atk.find_scaled_option(increase_option=mag_atk, increase=58)\n",
    "print(f\"boss atk: {boss_atk.value}\")"
   ]
  },
  {
   "cell_type": "markdown",
   "metadata": {},
   "source": [
    "#### Root Abyss Top"
   ]
  },
  {
   "cell_type": "code",
   "execution_count": 22,
   "metadata": {},
   "outputs": [
    {
     "name": "stdout",
     "output_type": "stream",
     "text": [
      "crit dmg: 1.6600341102899374\n"
     ]
    }
   ],
   "source": [
    "# mag atk scales with crit dmg 17.59%, increase 292\n",
    "mag_atk = Option(stat_type=STAT_TYPE.FIXED, value=0.1759)\n",
    "crit_dmg = Option(stat_type=STAT_TYPE.PERCENTAGE)\n",
    "crit_dmg.find_scaled_option(increase_option=mag_atk, increase=292)\n",
    "print(f\"crit dmg: {crit_dmg.value}\")"
   ]
  },
  {
   "cell_type": "markdown",
   "metadata": {},
   "source": [
    "### My Additive Stats"
   ]
  },
  {
   "cell_type": "code",
   "execution_count": 23,
   "metadata": {},
   "outputs": [
    {
     "data": {
      "text/plain": [
       "1.758"
      ]
     },
     "execution_count": 23,
     "metadata": {},
     "output_type": "execute_result"
    }
   ],
   "source": [
    "crit_dmg = {\n",
    "    'wand_option': 0.08,\n",
    "    \"wand_emblem\": 0.2,\n",
    "    \"secondary_option\": 0.01,\n",
    "    \"hat\": 0.134,\n",
    "    \"hat_emblem\": 0.2,\n",
    "    \"glove\": 0.134,\n",
    "    \"glove_emblem\": 0.2,\n",
    "    \"shoulders_emblem\": 0.2,\n",
    "    \"shoes_emblem\": 0.2,\n",
    "    \"belt_emblem\": 0.2,\n",
    "    \"cape_emblem\": 0.2\n",
    "}\n",
    "\n",
    "sum(list(crit_dmg.values()))"
   ]
  },
  {
   "cell_type": "code",
   "execution_count": 24,
   "metadata": {},
   "outputs": [
    {
     "data": {
      "text/plain": [
       "54821"
      ]
     },
     "execution_count": 24,
     "metadata": {},
     "output_type": "execute_result"
    }
   ],
   "source": [
    "max_hp = {\n",
    "    \"hat\": 10807,\n",
    "    \"glove\": 8104,\n",
    "    \"outfit\": 16210,\n",
    "    \"shoulders_option\": 540,\n",
    "    \"shoes\": 7023,\n",
    "    \"cygnus_ring\": 251,\n",
    "    \"silver_ring_legend\": 445,\n",
    "    \"silver_ring_unique\": 372,\n",
    "    \"earring\": 371,\n",
    "    \"chaos_pb_mark\": 7009,\n",
    "    \"boss_set\": 3500,\n",
    "    \"empress_set\": 189\n",
    "}\n",
    "\n",
    "hard_HP = sum(list(max_hp.values()))\n",
    "hard_HP"
   ]
  },
  {
   "cell_type": "code",
   "execution_count": 25,
   "metadata": {},
   "outputs": [
    {
     "data": {
      "text/plain": [
       "10985"
      ]
     },
     "execution_count": 25,
     "metadata": {},
     "output_type": "execute_result"
    }
   ],
   "source": [
    "max_mp = {\n",
    "    \"shoulders\": 2088,\n",
    "    \"belt\": 1701,\n",
    "    \"cape\": 3095,\n",
    "    \"cyenus_ring\": 125,\n",
    "    \"silver_ring_legend\": 232,\n",
    "    \"silver_ring_unique\": 63,\n",
    "    \"earring\": 181,\n",
    "    \"boss_set\": 3500\n",
    "}\n",
    "\n",
    "hard_MP = sum(list(max_mp.values()))\n",
    "hard_MP"
   ]
  }
 ],
 "metadata": {
  "kernelspec": {
   "display_name": "Python 3",
   "language": "python",
   "name": "python3"
  },
  "language_info": {
   "codemirror_mode": {
    "name": "ipython",
    "version": 3
   },
   "file_extension": ".py",
   "mimetype": "text/x-python",
   "name": "python",
   "nbconvert_exporter": "python",
   "pygments_lexer": "ipython3",
   "version": "3.7.0"
  }
 },
 "nbformat": 4,
 "nbformat_minor": 2
}
